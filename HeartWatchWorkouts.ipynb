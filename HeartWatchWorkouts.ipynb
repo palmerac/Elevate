{
 "cells": [
  {
   "cell_type": "code",
   "execution_count": 1,
   "id": "948bec3e-011e-4f0f-913e-13e21e7dc72d",
   "metadata": {
    "tags": []
   },
   "outputs": [],
   "source": [
    "import pandas as pd\n",
    "import matplotlib.pyplot as plt\n",
    "import time \n",
    "\n",
    "start = time.perf_counter()"
   ]
  },
  {
   "cell_type": "code",
   "execution_count": 2,
   "id": "8e58e688-d89e-45e3-b6aa-26652c261250",
   "metadata": {
    "tags": []
   },
   "outputs": [],
   "source": [
    "df = pd.read_csv('HeartWatch-Workouts-20230716-to-20230809.csv')"
   ]
  },
  {
   "cell_type": "code",
   "execution_count": 3,
   "id": "7c807d06-db37-43de-8d32-ffe7ac07b00e",
   "metadata": {
    "tags": []
   },
   "outputs": [],
   "source": [
    "df = df.drop(['ISO', 'from', 'to', 'rpe', 'Load', 'bpm-lo', 'bpm-90%+-%', '90%+-mins',\n",
    "              'bpm-80-90%-%', '80-90%-mins','bpm-70-80%-%', '70-80%-mins','bpm-60-70%-%',\n",
    "              '60-70%-mins','bpm-50-60%-%', '50-60%-mins'], axis=1)\n",
    "\n",
    "df['Duration'] = pd.to_timedelta(df['Duration'])\n",
    "df['/km'] = pd.to_timedelta(df['/km'])\n",
    "\n",
    "# df.head()"
   ]
  },
  {
   "cell_type": "code",
   "execution_count": 4,
   "id": "d6042068-8775-4504-9b34-6a94dbcef275",
   "metadata": {
    "tags": []
   },
   "outputs": [],
   "source": [
    "dfRun = df[df['Type'] == 'Running']\n",
    "dfBike = df[df['Type'] == 'Cycling']\n",
    "dfOther = df[~df['Type'].isin(['Running', 'Cycling'])]\n",
    "\n",
    "# print(dfRun.info())\n",
    "# print(dfBike.info())\n",
    "# print(dfOther.head())"
   ]
  },
  {
   "cell_type": "code",
   "execution_count": 5,
   "id": "76087570-17cd-49b5-9ff7-36ee45dbf9e5",
   "metadata": {
    "tags": []
   },
   "outputs": [
    {
     "data": {
      "text/html": [
       "<div>\n",
       "<style scoped>\n",
       "    .dataframe tbody tr th:only-of-type {\n",
       "        vertical-align: middle;\n",
       "    }\n",
       "\n",
       "    .dataframe tbody tr th {\n",
       "        vertical-align: top;\n",
       "    }\n",
       "\n",
       "    .dataframe thead th {\n",
       "        text-align: right;\n",
       "    }\n",
       "</style>\n",
       "<table border=\"1\" class=\"dataframe\">\n",
       "  <thead>\n",
       "    <tr style=\"text-align: right;\">\n",
       "      <th></th>\n",
       "      <th>Date</th>\n",
       "      <th>Duration</th>\n",
       "      <th>Type</th>\n",
       "      <th>bpm-Avg.</th>\n",
       "      <th>bpm-%</th>\n",
       "      <th>bpm-hi</th>\n",
       "      <th>Cals</th>\n",
       "      <th>Cals/h</th>\n",
       "      <th>km</th>\n",
       "      <th>km/h</th>\n",
       "      <th>/km</th>\n",
       "    </tr>\n",
       "  </thead>\n",
       "  <tbody>\n",
       "    <tr>\n",
       "      <th>9</th>\n",
       "      <td>Sunday, Jul 30</td>\n",
       "      <td>0 days 00:29:48</td>\n",
       "      <td>Running</td>\n",
       "      <td>151.4</td>\n",
       "      <td>79.0</td>\n",
       "      <td>175.0</td>\n",
       "      <td>315.5</td>\n",
       "      <td>634.9</td>\n",
       "      <td>4.00</td>\n",
       "      <td>8.0</td>\n",
       "      <td>0 days 00:07:27</td>\n",
       "    </tr>\n",
       "    <tr>\n",
       "      <th>10</th>\n",
       "      <td>Monday, Jul 31</td>\n",
       "      <td>0 days 00:53:18</td>\n",
       "      <td>Running</td>\n",
       "      <td>146.1</td>\n",
       "      <td>76.2</td>\n",
       "      <td>160.0</td>\n",
       "      <td>584.8</td>\n",
       "      <td>658.3</td>\n",
       "      <td>7.04</td>\n",
       "      <td>7.9</td>\n",
       "      <td>0 days 00:07:34</td>\n",
       "    </tr>\n",
       "    <tr>\n",
       "      <th>13</th>\n",
       "      <td>Wednesday, Aug 2</td>\n",
       "      <td>0 days 00:37:55</td>\n",
       "      <td>Running</td>\n",
       "      <td>154.5</td>\n",
       "      <td>80.7</td>\n",
       "      <td>166.0</td>\n",
       "      <td>441.3</td>\n",
       "      <td>698.1</td>\n",
       "      <td>5.12</td>\n",
       "      <td>8.1</td>\n",
       "      <td>0 days 00:07:24</td>\n",
       "    </tr>\n",
       "    <tr>\n",
       "      <th>14</th>\n",
       "      <td>Tuesday, Aug 8</td>\n",
       "      <td>0 days 00:39:24</td>\n",
       "      <td>Running</td>\n",
       "      <td>153.9</td>\n",
       "      <td>80.3</td>\n",
       "      <td>187.0</td>\n",
       "      <td>480.4</td>\n",
       "      <td>731.3</td>\n",
       "      <td>5.80</td>\n",
       "      <td>8.8</td>\n",
       "      <td>0 days 00:06:47</td>\n",
       "    </tr>\n",
       "    <tr>\n",
       "      <th>15</th>\n",
       "      <td>Wednesday, Aug 9</td>\n",
       "      <td>0 days 00:53:36</td>\n",
       "      <td>Running</td>\n",
       "      <td>148.3</td>\n",
       "      <td>77.4</td>\n",
       "      <td>157.0</td>\n",
       "      <td>553.8</td>\n",
       "      <td>619.8</td>\n",
       "      <td>6.66</td>\n",
       "      <td>7.5</td>\n",
       "      <td>0 days 00:08:02</td>\n",
       "    </tr>\n",
       "  </tbody>\n",
       "</table>\n",
       "</div>"
      ],
      "text/plain": [
       "                Date        Duration     Type  bpm-Avg.  bpm-%  bpm-hi   Cals  \\\n",
       "9     Sunday, Jul 30 0 days 00:29:48  Running     151.4   79.0   175.0  315.5   \n",
       "10    Monday, Jul 31 0 days 00:53:18  Running     146.1   76.2   160.0  584.8   \n",
       "13  Wednesday, Aug 2 0 days 00:37:55  Running     154.5   80.7   166.0  441.3   \n",
       "14    Tuesday, Aug 8 0 days 00:39:24  Running     153.9   80.3   187.0  480.4   \n",
       "15  Wednesday, Aug 9 0 days 00:53:36  Running     148.3   77.4   157.0  553.8   \n",
       "\n",
       "    Cals/h    km  km/h             /km  \n",
       "9    634.9  4.00   8.0 0 days 00:07:27  \n",
       "10   658.3  7.04   7.9 0 days 00:07:34  \n",
       "13   698.1  5.12   8.1 0 days 00:07:24  \n",
       "14   731.3  5.80   8.8 0 days 00:06:47  \n",
       "15   619.8  6.66   7.5 0 days 00:08:02  "
      ]
     },
     "execution_count": 5,
     "metadata": {},
     "output_type": "execute_result"
    }
   ],
   "source": [
    "dfRun.tail()"
   ]
  },
  {
   "cell_type": "code",
   "execution_count": 6,
   "id": "09eb2254-9d0a-4e8c-9583-17d1dd8c15d9",
   "metadata": {
    "tags": []
   },
   "outputs": [],
   "source": [
    "# Pace Calculation\n",
    "# Calculate the total seconds of Duration column\n",
    "total_seconds = dfRun['Duration'].dt.total_seconds()\n",
    "\n",
    "# Average Pace from M/S\n",
    "mps = dfRun['km'].sum()*1000 / total_seconds.sum()\n",
    "kph = mps * 3.6\n",
    "mpk = 60 / kph\n",
    "\n",
    "integer_part = int(mpk)\n",
    "decimal_part = mpk - integer_part\n",
    "\n",
    "# Convert decimal part to minutes by dividing by 60\n",
    "decimal_minutes = round(decimal_part * 60,0)"
   ]
  },
  {
   "cell_type": "code",
   "execution_count": 7,
   "id": "42eedfc4-fc98-4982-b878-61704f463990",
   "metadata": {},
   "outputs": [],
   "source": [
    "# Average Duration, Distance, Average HR, Average Max HR Average Calories\n",
    "avg_dist = round(dfRun['km'].mean(),2)\n",
    "avg_hr = round(dfRun['bpm-Avg.'].mean(),2)\n",
    "avg_maxhr = round(dfRun['bpm-hi'].mean(),2)\n",
    "avg_cals = round(dfRun['Cals'].mean(),2)\n",
    "avg_dur = str(dfRun['Duration'].mean()).split(' ')[-1].split('.')[0]\n",
    "\n",
    "# Count Runs\n",
    "num_runs = dfRun['km'].count()\n",
    "ovr_5k = dfRun[dfRun['km'] >=5].count()['km']\n",
    "povr_5k = round(ovr_5k / num_runs *100,2)\n",
    "ovr_10k = dfRun[dfRun['km'] >=10].count()['km']\n",
    "povr_10k = round(ovr_10k / num_runs *100,2)\n",
    "\n",
    "# Maximums\n",
    "max_dur = str(dfRun['Duration'].max()).split(' ')[-1]\n",
    "max_dist = dfRun['km'].max()\n",
    "max_avghr = dfRun['bpm-Avg.'].max()\n",
    "max_maxhr = dfRun['bpm-hi'].max()\n",
    "max_cals = dfRun['Cals'].max()"
   ]
  },
  {
   "cell_type": "code",
   "execution_count": 8,
   "id": "f7d0185b-97a4-4cf3-8db6-5de292ba570e",
   "metadata": {
    "tags": []
   },
   "outputs": [
    {
     "data": {
      "image/png": "[encoded data removed]",
      "text/plain": [
       "<Figure size 640x480 with 1 Axes>"
      ]
     },
     "metadata": {},
     "output_type": "display_data"
    }
   ],
   "source": [
    "plt.hist(dfRun['km'])\n",
    "plt.title('Run Distance Frequency')\n",
    "plt.xlabel('Distance')\n",
    "plt.ylabel('Frequency')\n",
    "# plt.xticks(rotation=45)\n",
    "plt.tight_layout()\n",
    "plt.show()"
   ]
  },
  {
   "cell_type": "code",
   "execution_count": 9,
   "id": "7ec8aaf3-4827-42cc-b04c-52e3747f19c8",
   "metadata": {
    "tags": []
   },
   "outputs": [
    {
     "data": {
      "image/png": "[encoded data removed]",
      "text/plain": [
       "<Figure size 640x480 with 1 Axes>"
      ]
     },
     "metadata": {},
     "output_type": "display_data"
    }
   ],
   "source": [
    "plt.hist(dfRun['bpm-Avg.'])\n",
    "plt.title('Average HR Frequency')\n",
    "plt.xlabel('Average BPM')\n",
    "plt.ylabel('Frequency')\n",
    "# plt.xticks(rotation=45)\n",
    "plt.tight_layout()\n",
    "plt.show()"
   ]
  },
  {
   "cell_type": "code",
   "execution_count": 10,
   "id": "3c296992-6509-43f6-9e95-f0a1b828526c",
   "metadata": {
    "tags": []
   },
   "outputs": [
    {
     "name": "stdout",
     "output_type": "stream",
     "text": [
      "Runs: 11\n",
      "Runs over 5k(%): 7 (63.64%)\n",
      "Runs over 10k(%): 0 (0.0%)\n",
      "\n",
      "\n",
      "Average Duration: 00:40:08\n",
      "Average Distance: 5.34\n",
      "Average Pace: 7:31.0\n",
      "Average HR: 152.15\n",
      "Average Max HR: 167.82\n",
      "Average Calories: 431.05\n",
      "\n",
      "\n",
      "Max Duration: 01:00:31\n",
      "Max Distance: 7.49\n",
      "Max Average HR: 157.3\n",
      "Max Max HR: 187.0\n",
      "Max Calories: 598.1\n",
      "\n",
      "\n",
      "Runtime: 0.18s\n"
     ]
    }
   ],
   "source": [
    "print(f'Runs: {num_runs}')\n",
    "print(f'Runs over 5k(%): {ovr_5k} ({povr_5k}%)')\n",
    "print(f'Runs over 10k(%): {ovr_10k} ({povr_10k}%)')\n",
    "\n",
    "\n",
    "print('\\n')\n",
    "print(f'Average Duration: {avg_dur}')\n",
    "print(f'Average Distance: {avg_dist}')\n",
    "print(f\"Average Pace: {integer_part}:{decimal_minutes}\")\n",
    "print(f'Average HR: {avg_hr}')\n",
    "print(f'Average Max HR: {avg_maxhr}')\n",
    "print(f'Average Calories: {avg_cals}')\n",
    "\n",
    "print('\\n')\n",
    "print(f'Max Duration: {max_dur}')\n",
    "print(f'Max Distance: {max_dist}')\n",
    "print(f'Max Average HR: {max_avghr}')\n",
    "print(f'Max Max HR: {max_maxhr}')\n",
    "print(f'Max Calories: {max_cals}')\n",
    "\n",
    "print('\\n')\n",
    "print(f'Runtime: {round(time.perf_counter() - start,2)}s')"
   ]
  }
 ],
 "metadata": {
  "kernelspec": {
   "display_name": "Python 3 (ipykernel)",
   "language": "python",
   "name": "python3"
  },
  "language_info": {
   "codemirror_mode": {
    "name": "ipython",
    "version": 3
   },
   "file_extension": ".py",
   "mimetype": "text/x-python",
   "name": "python",
   "nbconvert_exporter": "python",
   "pygments_lexer": "ipython3",
   "version": "3.11.0"
  }
 },
 "nbformat": 4,
 "nbformat_minor": 5
}
