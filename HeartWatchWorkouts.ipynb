{
 "cells": [
  {
   "cell_type": "code",
   "execution_count": null,
   "id": "948bec3e-011e-4f0f-913e-13e21e7dc72d",
   "metadata": {
    "tags": []
   },
   "outputs": [],
   "source": [
    "import pandas as pd\n",
    "import matplotlib.pyplot as plt\n",
    "import time \n",
    "\n",
    "# plt.style.use('bmh')\n",
    "\n",
    "start = time.perf_counter()"
   ]
  },
  {
   "cell_type": "code",
   "execution_count": null,
   "id": "8e58e688-d89e-45e3-b6aa-26652c261250",
   "metadata": {
    "tags": []
   },
   "outputs": [],
   "source": [
    "df = pd.read_csv('HeartWatch-Workouts-20230717-to-20230816.csv')"
   ]
  },
  {
   "cell_type": "code",
   "execution_count": null,
   "id": "7c807d06-db37-43de-8d32-ffe7ac07b00e",
   "metadata": {
    "tags": []
   },
   "outputs": [],
   "source": [
    "df = df.drop(['ISO', 'from', 'to', 'rpe', 'Load', 'bpm-lo', 'bpm-90%+-%', '90%+-mins',\n",
    "              'bpm-80-90%-%', '80-90%-mins','bpm-70-80%-%', '70-80%-mins','bpm-60-70%-%',\n",
    "              '60-70%-mins','bpm-50-60%-%', '50-60%-mins'], axis=1)\n",
    "\n",
    "df['Duration'] = pd.to_timedelta(df['Duration'])\n",
    "df['/km'] = pd.to_timedelta(df['/km'])\n",
    "\n",
    "# df.head()"
   ]
  },
  {
   "cell_type": "code",
   "execution_count": null,
   "id": "d6042068-8775-4504-9b34-6a94dbcef275",
   "metadata": {
    "tags": []
   },
   "outputs": [],
   "source": [
    "dfRun = df[df['Type'] == 'Running']\n",
    "dfBike = df[df['Type'] == 'Cycling']\n",
    "dfOther = df[~df['Type'].isin(['Running', 'Cycling'])]\n",
    "\n",
    "# print(dfRun.info())\n",
    "# print(dfBike.info())\n",
    "# print(dfOther.head())"
   ]
  },
  {
   "cell_type": "code",
   "execution_count": null,
   "id": "76087570-17cd-49b5-9ff7-36ee45dbf9e5",
   "metadata": {
    "tags": []
   },
   "outputs": [],
   "source": [
    "dfRun.tail()"
   ]
  },
  {
   "cell_type": "code",
   "execution_count": null,
   "id": "09eb2254-9d0a-4e8c-9583-17d1dd8c15d9",
   "metadata": {
    "tags": []
   },
   "outputs": [],
   "source": [
    "# Pace Calculation\n",
    "# Calculate the total seconds of Duration column\n",
    "total_seconds = dfRun['Duration'].dt.total_seconds()\n",
    "\n",
    "# Average Pace from M/S\n",
    "mps = dfRun['km'].sum()*1000 / total_seconds.sum()\n",
    "kph = mps * 3.6\n",
    "mpk = 60 / kph\n",
    "\n",
    "integer_part = int(mpk)\n",
    "decimal_part = mpk - integer_part\n",
    "\n",
    "# Convert decimal part to minutes by dividing by 60\n",
    "decimal_minutes = round(decimal_part * 60,0)"
   ]
  },
  {
   "cell_type": "code",
   "execution_count": null,
   "id": "41bc1472-85a6-4162-8ae6-20fae1e8d926",
   "metadata": {},
   "outputs": [],
   "source": [
    "# Weighted HR\n",
    "dfRunWght = dfRun\n",
    "\n",
    "# Convert the time delta to decimal hours and create a new column\n",
    "dfRunWght[\"Duration\"] = dfRunWght[\"Duration\"].apply(lambda x: x.total_seconds() / 3600)\n",
    "dfRunWght['Weighted HR'] = dfRunWght['Duration'] * dfRunWght['bpm-Avg.']"
   ]
  },
  {
   "cell_type": "code",
   "execution_count": null,
   "id": "42eedfc4-fc98-4982-b878-61704f463990",
   "metadata": {},
   "outputs": [],
   "source": [
    "# Average Duration, Distance, Average HR, Average Max HR Average Calories\n",
    "avg_dist = round(dfRun['km'].mean(),2)\n",
    "avg_hr = round(dfRun['bpm-Avg.'].mean(),2)\n",
    "avg_wght_hr = round(dfRunWght['Weighted HR'].sum() / dfRunWght['Duration'].sum(),2)\n",
    "avg_maxhr = round(dfRun['bpm-hi'].mean(),2)\n",
    "avg_cals = round(dfRun['Cals'].mean(),2)\n",
    "avg_dur = dfRun['Duration'].mean()\n",
    "\n",
    "# Count Runs\n",
    "num_runs = dfRun['km'].count()\n",
    "ovr_5k = dfRun[dfRun['km'] >=5].count()['km']\n",
    "povr_5k = round(ovr_5k / num_runs *100,2)\n",
    "ovr_10k = dfRun[dfRun['km'] >=10].count()['km']\n",
    "povr_10k = round(ovr_10k / num_runs *100,2)\n",
    "\n",
    "# Maximums\n",
    "max_dur = dfRun['Duration'].max()\n",
    "max_dist = dfRun['km'].max()\n",
    "max_avghr = dfRun['bpm-Avg.'].max()\n",
    "max_maxhr = dfRun['bpm-hi'].max()\n",
    "max_cals = dfRun['Cals'].max()\n",
    "\n",
    "# Durations to Time Format\n",
    "avg_dur_h = int(avg_dur)\n",
    "max_dur_h = int(max_dur)\n",
    "\n",
    "avg_dur_m_dec = (avg_dur - avg_dur_h)*60\n",
    "max_dur_m_dec = (max_dur - max_dur_h)*60\n",
    "\n",
    "avg_dur_m = int(avg_dur_m_dec)\n",
    "max_dur_m = int(max_dur_m_dec)\n",
    "\n",
    "avg_dur_s = int((avg_dur_m_dec - avg_dur_m)*60)\n",
    "max_dur_s = int((max_dur_m_dec - max_dur_m)*60)\n",
    "\n",
    "avg_dur_f = str(avg_dur_h) + ':' + str(avg_dur_m) + ':' + str(avg_dur_s)\n",
    "max_dur_f = str(max_dur_h) + ':' + str(max_dur_m) + ':' + str(max_dur_s)"
   ]
  },
  {
   "cell_type": "code",
   "execution_count": null,
   "id": "f7d0185b-97a4-4cf3-8db6-5de292ba570e",
   "metadata": {
    "tags": []
   },
   "outputs": [],
   "source": [
    "plt.hist(dfRun['km'])\n",
    "plt.title('Run Distance Frequency')\n",
    "plt.xlabel('Distance')\n",
    "plt.ylabel('Frequency')\n",
    "# plt.xticks(rotation=45)\n",
    "plt.tight_layout()\n",
    "plt.savefig('Graphs/Distance Frequency.png', dpi=300)\n",
    "plt.show()"
   ]
  },
  {
   "cell_type": "code",
   "execution_count": null,
   "id": "7ec8aaf3-4827-42cc-b04c-52e3747f19c8",
   "metadata": {
    "tags": []
   },
   "outputs": [],
   "source": [
    "plt.hist(dfRun['bpm-Avg.'])\n",
    "plt.title('Average HR Frequency')\n",
    "plt.xlabel('Average BPM')\n",
    "plt.ylabel('Frequency')\n",
    "# plt.xticks(rotation=45)\n",
    "plt.tight_layout()\n",
    "plt.savefig('Graphs/HR Frequency.png', dpi=300)\n",
    "plt.show()"
   ]
  },
  {
   "cell_type": "code",
   "execution_count": null,
   "id": "4be2fc94-dd5f-4804-afb3-b58ce4c06c2b",
   "metadata": {},
   "outputs": [],
   "source": [
    "plt.scatter('bpm-Avg.', 'km/h', data=dfRun)\n",
    "plt.xlabel('Average BPM')\n",
    "plt.ylabel('Average Speed (km/h)')\n",
    "plt.title('Average HR versus Speed')\n",
    "plt.grid(True)\n",
    "plt.tight_layout()\n",
    "plt.savefig('Graphs/SpeedvsHR.png', dpi=300)\n",
    "plt.show()"
   ]
  },
  {
   "cell_type": "code",
   "execution_count": null,
   "id": "3c296992-6509-43f6-9e95-f0a1b828526c",
   "metadata": {
    "tags": []
   },
   "outputs": [],
   "source": [
    "print(f'Runs: {num_runs}')\n",
    "print(f'Runs over 5k(%): {ovr_5k} ({povr_5k}%)')\n",
    "print(f'Runs over 10k(%): {ovr_10k} ({povr_10k}%)')\n",
    "\n",
    "\n",
    "print('\\n')\n",
    "print(f'Average Duration: {avg_dur_f}')\n",
    "print(f'Average Distance: {avg_dist}')\n",
    "print(f\"Average Pace: {integer_part}:{decimal_minutes}\")\n",
    "print(f'Average Weighted HR: {avg_wght_hr}')\n",
    "print(f'Average HR: {avg_hr}')\n",
    "print(f'Average Max HR: {avg_maxhr}')\n",
    "print(f'Average Calories: {avg_cals}')\n",
    "\n",
    "print('\\n')\n",
    "print(f'Max Duration: {max_dur_f}')\n",
    "print(f'Max Distance: {max_dist}')\n",
    "print(f'Max Average HR: {max_avghr}')\n",
    "print(f'Max Max HR: {max_maxhr}')\n",
    "print(f'Max Calories: {max_cals}')\n",
    "\n",
    "print('\\n')\n",
    "print(f'Runtime: {round(time.perf_counter() - start,2)}s')"
   ]
  }
 ],
 "metadata": {
  "kernelspec": {
   "display_name": "Python 3 (ipykernel)",
   "language": "python",
   "name": "python3"
  },
  "language_info": {
   "codemirror_mode": {
    "name": "ipython",
    "version": 3
   },
   "file_extension": ".py",
   "mimetype": "text/x-python",
   "name": "python",
   "nbconvert_exporter": "python",
   "pygments_lexer": "ipython3",
   "version": "3.11.0"
  }
 },
 "nbformat": 4,
 "nbformat_minor": 5
}
