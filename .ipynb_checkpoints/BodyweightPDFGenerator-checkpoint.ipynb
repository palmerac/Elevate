{
 "cells": [
  {
   "cell_type": "markdown",
   "id": "c7e5e9cb-208d-425c-a73c-58cfe6bdac75",
   "metadata": {},
   "source": [
    "# Bodyweight Exercise Workout Plan Generator"
   ]
  },
  {
   "cell_type": "markdown",
   "id": "0adbb512-ec02-4935-ac67-1d7d359471c5",
   "metadata": {},
   "source": [
    "Generates PDF file with list of exercises to complete on each day.  \n",
    "\n",
    "  \n",
    "It takes inputs as:  \n",
    "*  Number of days  \n",
    "*  Number of exercises per day\n",
    "\n",
    "There is 18 exercises, once these are all used it will repeat. For example, after 3 days of 6 exercises the days will be repeated"
   ]
  },
  {
   "cell_type": "code",
   "execution_count": 16,
   "id": "af9d8d19-aa63-4cda-b8ff-8e3021bfa7e0",
   "metadata": {
    "scrolled": true
   },
   "outputs": [
    {
     "name": "stdout",
     "output_type": "stream",
     "text": [
      "Number of Workouts: 18\n",
      "2 Days: 9.0\n",
      "3 Days: 6.0\n",
      "4 Days: 4.5\n",
      "5 Days: 3.6\n",
      "6 Days: 3.0\n",
      "7 Days: 2.5714285714285716\n"
     ]
    }
   ],
   "source": [
    "from reportlab.lib.pagesizes import letter\n",
    "from reportlab.lib import colors\n",
    "from reportlab.platypus import SimpleDocTemplate, Table, TableStyle, Spacer, Paragraph\n",
    "from reportlab.lib.styles import getSampleStyleSheet\n",
    "import pandas as pd\n",
    "import numpy as np\n",
    "\n",
    "# Read the CSV file\n",
    "df = pd.read_csv('bodyweight_workout_list.csv')\n",
    "# Shuffle the DataFrame rows\n",
    "df_shuffled = df.sample(frac=1).reset_index(drop=True)\n",
    "\n",
    "print(f'Number of Workouts: {len(df)}')\n",
    "print(f'2 Days: {(len(df)/2)}')\n",
    "print(f'3 Days: {(len(df)/3)}')\n",
    "print(f'4 Days: {(len(df)/4)}')\n",
    "print(f'5 Days: {(len(df)/5)}')\n",
    "print(f'6 Days: {(len(df)/6)}')\n",
    "print(f'7 Days: {(len(df)/7)}')"
   ]
  },
  {
   "cell_type": "code",
   "execution_count": 17,
   "id": "8eb681be-69d1-4437-8a59-391fa49a4926",
   "metadata": {},
   "outputs": [
    {
     "name": "stdin",
     "output_type": "stream",
     "text": [
      "Enter the number of days:  3\n",
      "Enter the number of workouts per day:  6\n"
     ]
    },
    {
     "name": "stdout",
     "output_type": "stream",
     "text": [
      "Generated PDF containing all workout days: Plans/Workout Plan.pdf\n"
     ]
    }
   ],
   "source": [
    "# Number of days and workouts per day\n",
    "num_days = int(input(\"Enter the number of days: \"))\n",
    "workouts_per_day = int(input(\"Enter the number of workouts per day: \"))\n",
    "\n",
    "# Calculate the number of rows and rows per split\n",
    "num_rows = len(df)\n",
    "rows_per_split = num_rows // num_days\n",
    "\n",
    "# Create a list to hold all data\n",
    "all_data = []\n",
    "\n",
    "# Combine data for all days\n",
    "for day in range(1, num_days + 1):\n",
    "    # Add a label row for the day with background color\n",
    "    label = f\"Day {day}\"\n",
    "    all_data.append([label, \"\", \"\", \"\"])\n",
    "    \n",
    "    # Calculate the start and end indices for the shuffled DataFrame\n",
    "    start_idx = (day - 1) * workouts_per_day % num_rows\n",
    "    end_idx = (start_idx + workouts_per_day) % num_rows\n",
    "    if end_idx > start_idx:\n",
    "        indices = np.arange(start_idx, end_idx)\n",
    "    else:\n",
    "        indices = np.concatenate((np.arange(start_idx, num_rows), np.arange(0, end_idx)))\n",
    "    \n",
    "    smaller_df = df_shuffled.iloc[indices].reset_index(drop=True)\n",
    "    \n",
    "    for idx, row in smaller_df.iterrows():\n",
    "        all_data.append([row['Exercise'], row['Sets'], row['Reps'], row['Rest']])\n",
    "    all_data.append([\"\", \"\", \"\", \"\"])  # Add a spacer row after each day\n",
    "\n",
    "# Generate a single PDF\n",
    "pdf_filename = \"Plans/Workout Plan.pdf\"\n",
    "doc = SimpleDocTemplate(pdf_filename, pagesize=letter)\n",
    "\n",
    "table = Table(all_data)\n",
    "table.setStyle(TableStyle([\\\n",
    "                            ('BACKGROUND', (0, 0), (-1, 0), colors.grey),\n",
    "                           ('TEXTCOLOR', (0, 0), (-1, 0), colors.whitesmoke),\n",
    "                           ('ALIGN', (0, 0), (-1, -1), 'CENTER'),\n",
    "                           ('FONTNAME', (0, 0), (-1, 0), 'Helvetica-Bold'),\n",
    "                           ('BOTTOMPADDING', (0, 0), (-1, 0), 12),\n",
    "                           ('BACKGROUND', (0, 0), (-1, 0), colors.grey),\n",
    "                           ('FONTNAME', (0, 0), (0, -1), 'Helvetica-Bold'),\n",
    "                           ('BACKGROUND', (0, 0), (0, 0), colors.grey)]))  # Background color for Day # headers\n",
    "\n",
    "story = []\n",
    "story.append(table)\n",
    "\n",
    "doc.build(story)\n",
    "\n",
    "print(f\"Generated PDF containing all workout days: {pdf_filename}\")"
   ]
  }
 ],
 "metadata": {
  "kernelspec": {
   "display_name": "Python 3 (ipykernel)",
   "language": "python",
   "name": "python3"
  },
  "language_info": {
   "codemirror_mode": {
    "name": "ipython",
    "version": 3
   },
   "file_extension": ".py",
   "mimetype": "text/x-python",
   "name": "python",
   "nbconvert_exporter": "python",
   "pygments_lexer": "ipython3",
   "version": "3.11.0"
  }
 },
 "nbformat": 4,
 "nbformat_minor": 5
}
