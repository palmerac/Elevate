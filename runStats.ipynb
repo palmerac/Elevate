{
 "cells": [
  {
   "cell_type": "markdown",
   "id": "9e150f89-2c54-4107-905e-0d37e7e36544",
   "metadata": {},
   "source": [
    "# Running Workout Statistics and Graphs"
   ]
  },
  {
   "cell_type": "code",
   "execution_count": 1,
   "id": "948bec3e-011e-4f0f-913e-13e21e7dc72d",
   "metadata": {
    "tags": []
   },
   "outputs": [],
   "source": [
    "import pandas as pd\n",
    "import numpy as np\n",
    "import matplotlib.pyplot as plt\n",
    "import time \n",
    "from datetime import datetime\n",
    "\n",
    "plt.style.use('ggplot')\n",
    "\n",
    "start = time.perf_counter()"
   ]
  },
  {
   "cell_type": "code",
   "execution_count": 2,
   "id": "8e58e688-d89e-45e3-b6aa-26652c261250",
   "metadata": {
    "tags": []
   },
   "outputs": [],
   "source": [
    "df = pd.read_csv('HeartWatch-Workouts-20230718-to-20230818.csv')"
   ]
  },
  {
   "cell_type": "code",
   "execution_count": 3,
   "id": "7c807d06-db37-43de-8d32-ffe7ac07b00e",
   "metadata": {
    "tags": []
   },
   "outputs": [],
   "source": [
    "df = df.drop(['Date', 'from', 'to', 'rpe', 'Load', 'bpm-lo', 'bpm-90%+-%', '90%+-mins',\n",
    "              'bpm-80-90%-%', '80-90%-mins','bpm-70-80%-%', '70-80%-mins','bpm-60-70%-%',\n",
    "              '60-70%-mins','bpm-50-60%-%', '50-60%-mins'], axis=1)\n",
    "\n",
    "# Drop Run w/ Bear\n",
    "df = df.drop(19)"
   ]
  },
  {
   "cell_type": "code",
   "execution_count": 4,
   "id": "4af6509a",
   "metadata": {},
   "outputs": [
    {
     "data": {
      "text/html": [
       "<div>\n",
       "<style scoped>\n",
       "    .dataframe tbody tr th:only-of-type {\n",
       "        vertical-align: middle;\n",
       "    }\n",
       "\n",
       "    .dataframe tbody tr th {\n",
       "        vertical-align: top;\n",
       "    }\n",
       "\n",
       "    .dataframe thead th {\n",
       "        text-align: right;\n",
       "    }\n",
       "</style>\n",
       "<table border=\"1\" class=\"dataframe\">\n",
       "  <thead>\n",
       "    <tr style=\"text-align: right;\">\n",
       "      <th></th>\n",
       "      <th>ISO</th>\n",
       "      <th>Duration</th>\n",
       "      <th>Type</th>\n",
       "      <th>bpm-Avg.</th>\n",
       "      <th>bpm-%</th>\n",
       "      <th>bpm-hi</th>\n",
       "      <th>Cals</th>\n",
       "      <th>Cals/h</th>\n",
       "      <th>km</th>\n",
       "      <th>km/h</th>\n",
       "      <th>/km</th>\n",
       "    </tr>\n",
       "  </thead>\n",
       "  <tbody>\n",
       "    <tr>\n",
       "      <th>0</th>\n",
       "      <td>2023-07-19</td>\n",
       "      <td>0 days 00:30:04</td>\n",
       "      <td>Running</td>\n",
       "      <td>155.9</td>\n",
       "      <td>81.4</td>\n",
       "      <td>164.0</td>\n",
       "      <td>289.8</td>\n",
       "      <td>578.3</td>\n",
       "      <td>3.81</td>\n",
       "      <td>7.6</td>\n",
       "      <td>0 days 00:07:53</td>\n",
       "    </tr>\n",
       "    <tr>\n",
       "      <th>1</th>\n",
       "      <td>2023-07-20</td>\n",
       "      <td>0 days 00:36:56</td>\n",
       "      <td>Running</td>\n",
       "      <td>157.3</td>\n",
       "      <td>82.1</td>\n",
       "      <td>170.0</td>\n",
       "      <td>399.0</td>\n",
       "      <td>648.0</td>\n",
       "      <td>5.06</td>\n",
       "      <td>8.2</td>\n",
       "      <td>0 days 00:07:18</td>\n",
       "    </tr>\n",
       "    <tr>\n",
       "      <th>2</th>\n",
       "      <td>2023-07-21</td>\n",
       "      <td>0 days 00:31:31</td>\n",
       "      <td>Running</td>\n",
       "      <td>152.8</td>\n",
       "      <td>79.7</td>\n",
       "      <td>181.0</td>\n",
       "      <td>302.5</td>\n",
       "      <td>575.7</td>\n",
       "      <td>4.08</td>\n",
       "      <td>7.8</td>\n",
       "      <td>0 days 00:07:43</td>\n",
       "    </tr>\n",
       "    <tr>\n",
       "      <th>3</th>\n",
       "      <td>2023-07-24</td>\n",
       "      <td>0 days 01:12:34</td>\n",
       "      <td>Cycling</td>\n",
       "      <td>135.6</td>\n",
       "      <td>70.8</td>\n",
       "      <td>188.0</td>\n",
       "      <td>277.1</td>\n",
       "      <td>229.1</td>\n",
       "      <td>17.31</td>\n",
       "      <td>14.3</td>\n",
       "      <td>0 days 00:04:11</td>\n",
       "    </tr>\n",
       "    <tr>\n",
       "      <th>4</th>\n",
       "      <td>2023-07-25</td>\n",
       "      <td>0 days 02:16:52</td>\n",
       "      <td>Cycling</td>\n",
       "      <td>143.6</td>\n",
       "      <td>74.9</td>\n",
       "      <td>182.0</td>\n",
       "      <td>661.4</td>\n",
       "      <td>290.0</td>\n",
       "      <td>35.16</td>\n",
       "      <td>15.4</td>\n",
       "      <td>0 days 00:03:53</td>\n",
       "    </tr>\n",
       "  </tbody>\n",
       "</table>\n",
       "</div>"
      ],
      "text/plain": [
       "          ISO        Duration     Type  bpm-Avg.  bpm-%  bpm-hi   Cals  \\\n",
       "0  2023-07-19 0 days 00:30:04  Running     155.9   81.4   164.0  289.8   \n",
       "1  2023-07-20 0 days 00:36:56  Running     157.3   82.1   170.0  399.0   \n",
       "2  2023-07-21 0 days 00:31:31  Running     152.8   79.7   181.0  302.5   \n",
       "3  2023-07-24 0 days 01:12:34  Cycling     135.6   70.8   188.0  277.1   \n",
       "4  2023-07-25 0 days 02:16:52  Cycling     143.6   74.9   182.0  661.4   \n",
       "\n",
       "   Cals/h     km  km/h             /km  \n",
       "0   578.3   3.81   7.6 0 days 00:07:53  \n",
       "1   648.0   5.06   8.2 0 days 00:07:18  \n",
       "2   575.7   4.08   7.8 0 days 00:07:43  \n",
       "3   229.1  17.31  14.3 0 days 00:04:11  \n",
       "4   290.0  35.16  15.4 0 days 00:03:53  "
      ]
     },
     "execution_count": 4,
     "metadata": {},
     "output_type": "execute_result"
    }
   ],
   "source": [
    "# Fix Datetime Columns\n",
    "df['ISO'] = pd.to_datetime(df['ISO'])\n",
    "df['Duration'] = pd.to_timedelta(df['Duration'])\n",
    "df['/km'] = pd.to_timedelta(df['/km'])\n",
    "\n",
    "df['ISO'] = df['ISO'].dt.date\n",
    "\n",
    "df.head()"
   ]
  },
  {
   "cell_type": "code",
   "execution_count": 5,
   "id": "d6042068-8775-4504-9b34-6a94dbcef275",
   "metadata": {
    "tags": []
   },
   "outputs": [],
   "source": [
    "dfRun = df[df['Type'] == 'Running']\n",
    "dfBike = df[df['Type'] == 'Cycling']\n",
    "dfOther = df[~df['Type'].isin(['Running', 'Cycling'])]\n",
    "\n",
    "# print(dfRun.info())\n",
    "# print(dfBike.info())\n",
    "# print(dfOther.head())"
   ]
  },
  {
   "cell_type": "code",
   "execution_count": 6,
   "id": "76087570-17cd-49b5-9ff7-36ee45dbf9e5",
   "metadata": {
    "tags": []
   },
   "outputs": [
    {
     "data": {
      "text/html": [
       "<div>\n",
       "<style scoped>\n",
       "    .dataframe tbody tr th:only-of-type {\n",
       "        vertical-align: middle;\n",
       "    }\n",
       "\n",
       "    .dataframe tbody tr th {\n",
       "        vertical-align: top;\n",
       "    }\n",
       "\n",
       "    .dataframe thead th {\n",
       "        text-align: right;\n",
       "    }\n",
       "</style>\n",
       "<table border=\"1\" class=\"dataframe\">\n",
       "  <thead>\n",
       "    <tr style=\"text-align: right;\">\n",
       "      <th></th>\n",
       "      <th>ISO</th>\n",
       "      <th>Duration</th>\n",
       "      <th>Type</th>\n",
       "      <th>bpm-Avg.</th>\n",
       "      <th>bpm-%</th>\n",
       "      <th>bpm-hi</th>\n",
       "      <th>Cals</th>\n",
       "      <th>Cals/h</th>\n",
       "      <th>km</th>\n",
       "      <th>km/h</th>\n",
       "      <th>/km</th>\n",
       "    </tr>\n",
       "  </thead>\n",
       "  <tbody>\n",
       "    <tr>\n",
       "      <th>17</th>\n",
       "      <td>2023-08-11</td>\n",
       "      <td>0 days 00:39:03</td>\n",
       "      <td>Running</td>\n",
       "      <td>148.2</td>\n",
       "      <td>77.4</td>\n",
       "      <td>161.0</td>\n",
       "      <td>434.2</td>\n",
       "      <td>667.1</td>\n",
       "      <td>5.14</td>\n",
       "      <td>7.9</td>\n",
       "      <td>0 days 00:07:35</td>\n",
       "    </tr>\n",
       "    <tr>\n",
       "      <th>20</th>\n",
       "      <td>2023-08-15</td>\n",
       "      <td>0 days 01:08:11</td>\n",
       "      <td>Running</td>\n",
       "      <td>151.3</td>\n",
       "      <td>79.0</td>\n",
       "      <td>177.0</td>\n",
       "      <td>792.8</td>\n",
       "      <td>697.6</td>\n",
       "      <td>9.22</td>\n",
       "      <td>8.1</td>\n",
       "      <td>0 days 00:07:23</td>\n",
       "    </tr>\n",
       "    <tr>\n",
       "      <th>23</th>\n",
       "      <td>2023-08-17</td>\n",
       "      <td>0 days 00:41:24</td>\n",
       "      <td>Running</td>\n",
       "      <td>157.9</td>\n",
       "      <td>82.4</td>\n",
       "      <td>189.0</td>\n",
       "      <td>498.9</td>\n",
       "      <td>723.0</td>\n",
       "      <td>6.12</td>\n",
       "      <td>8.9</td>\n",
       "      <td>0 days 00:06:45</td>\n",
       "    </tr>\n",
       "    <tr>\n",
       "      <th>24</th>\n",
       "      <td>2023-08-18</td>\n",
       "      <td>0 days 00:49:30</td>\n",
       "      <td>Running</td>\n",
       "      <td>139.7</td>\n",
       "      <td>72.9</td>\n",
       "      <td>162.0</td>\n",
       "      <td>550.8</td>\n",
       "      <td>667.5</td>\n",
       "      <td>6.64</td>\n",
       "      <td>8.0</td>\n",
       "      <td>0 days 00:07:27</td>\n",
       "    </tr>\n",
       "    <tr>\n",
       "      <th>25</th>\n",
       "      <td>2023-08-18</td>\n",
       "      <td>0 days 00:49:51</td>\n",
       "      <td>Running</td>\n",
       "      <td>148.9</td>\n",
       "      <td>77.7</td>\n",
       "      <td>170.0</td>\n",
       "      <td>591.6</td>\n",
       "      <td>712.0</td>\n",
       "      <td>7.09</td>\n",
       "      <td>8.5</td>\n",
       "      <td>0 days 00:07:02</td>\n",
       "    </tr>\n",
       "  </tbody>\n",
       "</table>\n",
       "</div>"
      ],
      "text/plain": [
       "           ISO        Duration     Type  bpm-Avg.  bpm-%  bpm-hi   Cals  \\\n",
       "17  2023-08-11 0 days 00:39:03  Running     148.2   77.4   161.0  434.2   \n",
       "20  2023-08-15 0 days 01:08:11  Running     151.3   79.0   177.0  792.8   \n",
       "23  2023-08-17 0 days 00:41:24  Running     157.9   82.4   189.0  498.9   \n",
       "24  2023-08-18 0 days 00:49:30  Running     139.7   72.9   162.0  550.8   \n",
       "25  2023-08-18 0 days 00:49:51  Running     148.9   77.7   170.0  591.6   \n",
       "\n",
       "    Cals/h    km  km/h             /km  \n",
       "17   667.1  5.14   7.9 0 days 00:07:35  \n",
       "20   697.6  9.22   8.1 0 days 00:07:23  \n",
       "23   723.0  6.12   8.9 0 days 00:06:45  \n",
       "24   667.5  6.64   8.0 0 days 00:07:27  \n",
       "25   712.0  7.09   8.5 0 days 00:07:02  "
      ]
     },
     "execution_count": 6,
     "metadata": {},
     "output_type": "execute_result"
    }
   ],
   "source": [
    "dfRun.tail()"
   ]
  },
  {
   "cell_type": "code",
   "execution_count": 7,
   "id": "09eb2254-9d0a-4e8c-9583-17d1dd8c15d9",
   "metadata": {
    "tags": []
   },
   "outputs": [],
   "source": [
    "# Pace Calculation\n",
    "# Calculate the total seconds of Duration column\n",
    "total_seconds = dfRun['Duration'].dt.total_seconds()\n",
    "\n",
    "# Average Pace from M/S\n",
    "mps = dfRun['km'].sum()*1000 / total_seconds.sum()\n",
    "kph = mps * 3.6\n",
    "mpk = 60 / kph\n",
    "\n",
    "integer_part = int(mpk)\n",
    "decimal_part = mpk - integer_part\n",
    "\n",
    "# Convert decimal part to minutes by dividing by 60\n",
    "decimal_minutes = round(decimal_part * 60,0)"
   ]
  },
  {
   "cell_type": "code",
   "execution_count": 8,
   "id": "41bc1472-85a6-4162-8ae6-20fae1e8d926",
   "metadata": {},
   "outputs": [
    {
     "name": "stderr",
     "output_type": "stream",
     "text": [
      "/var/folders/y_/8cmvsg791ys9qqbzj_yxrlj40000gn/T/ipykernel_15462/3208722300.py:5: SettingWithCopyWarning: \n",
      "A value is trying to be set on a copy of a slice from a DataFrame.\n",
      "Try using .loc[row_indexer,col_indexer] = value instead\n",
      "\n",
      "See the caveats in the documentation: https://pandas.pydata.org/pandas-docs/stable/user_guide/indexing.html#returning-a-view-versus-a-copy\n",
      "  dfRunWght[\"Duration\"] = dfRunWght[\"Duration\"].apply(lambda x: x.total_seconds() / 3600)\n",
      "/var/folders/y_/8cmvsg791ys9qqbzj_yxrlj40000gn/T/ipykernel_15462/3208722300.py:6: SettingWithCopyWarning: \n",
      "A value is trying to be set on a copy of a slice from a DataFrame.\n",
      "Try using .loc[row_indexer,col_indexer] = value instead\n",
      "\n",
      "See the caveats in the documentation: https://pandas.pydata.org/pandas-docs/stable/user_guide/indexing.html#returning-a-view-versus-a-copy\n",
      "  dfRunWght['Weighted HR'] = dfRunWght['Duration'] * dfRunWght['bpm-Avg.']\n",
      "/var/folders/y_/8cmvsg791ys9qqbzj_yxrlj40000gn/T/ipykernel_15462/3208722300.py:9: SettingWithCopyWarning: \n",
      "A value is trying to be set on a copy of a slice from a DataFrame.\n",
      "Try using .loc[row_indexer,col_indexer] = value instead\n",
      "\n",
      "See the caveats in the documentation: https://pandas.pydata.org/pandas-docs/stable/user_guide/indexing.html#returning-a-view-versus-a-copy\n",
      "  dfRun['HR/Speed'] = (dfRun['bpm-Avg.'] / dfRun['km/h'])\n"
     ]
    }
   ],
   "source": [
    "# Weighted HR\n",
    "dfRunWght = dfRun\n",
    "\n",
    "# Convert the time delta to decimal hours and create a new column\n",
    "dfRunWght[\"Duration\"] = dfRunWght[\"Duration\"].apply(lambda x: x.total_seconds() / 3600)\n",
    "dfRunWght['Weighted HR'] = dfRunWght['Duration'] * dfRunWght['bpm-Avg.']\n",
    "\n",
    "# HR/Speed Decimal\n",
    "dfRun['HR/Speed'] = (dfRun['bpm-Avg.'] / dfRun['km/h']) "
   ]
  },
  {
   "cell_type": "markdown",
   "id": "48dc39f8",
   "metadata": {},
   "source": [
    "## Graphs"
   ]
  },
  {
   "cell_type": "markdown",
   "id": "eee03719",
   "metadata": {},
   "source": [
    "#### Running Distance Frequency "
   ]
  },
  {
   "cell_type": "code",
   "execution_count": 9,
   "id": "f7d0185b-97a4-4cf3-8db6-5de292ba570e",
   "metadata": {
    "tags": []
   },
   "outputs": [
    {
     "data": {
      "image/png": "[encoded data removed]",
      "text/plain": [
       "<Figure size 640x480 with 1 Axes>"
      ]
     },
     "metadata": {},
     "output_type": "display_data"
    }
   ],
   "source": [
    "plt.hist(dfRun['km'], edgecolor='black', bins=8)\n",
    "plt.title('Run Distance Frequency')\n",
    "plt.xlabel('Distance')\n",
    "plt.ylabel('Frequency')\n",
    "# plt.xticks(rotation=45)\n",
    "plt.tight_layout()\n",
    "plt.savefig('Graphs/Distance Frequency.png', dpi=300)\n",
    "plt.show()"
   ]
  },
  {
   "cell_type": "markdown",
   "id": "b4a57022",
   "metadata": {},
   "source": [
    "#### Average Heart Rate Frequency"
   ]
  },
  {
   "cell_type": "code",
   "execution_count": 10,
   "id": "7ec8aaf3-4827-42cc-b04c-52e3747f19c8",
   "metadata": {
    "tags": []
   },
   "outputs": [
    {
     "data": {
      "image/png": "[encoded data removed]",
      "text/plain": [
       "<Figure size 640x480 with 1 Axes>"
      ]
     },
     "metadata": {},
     "output_type": "display_data"
    }
   ],
   "source": [
    "# bin_ct = int(np.sqrt(len(dfRun)))\n",
    "# plt.hist(dfRun['bpm-Avg.'], edgecolor='black', bins=bin_ct)\n",
    "\n",
    "plt.hist(dfRun['bpm-Avg.'], edgecolor='black', bins=8)\n",
    "plt.title('Average HR Frequency')\n",
    "plt.xlabel('Average BPM')\n",
    "plt.ylabel('Frequency')\n",
    "# plt.xticks(rotation=45)\n",
    "plt.tight_layout()\n",
    "plt.savefig('Graphs/HR Frequency.png', dpi=300)\n",
    "plt.show()"
   ]
  },
  {
   "cell_type": "markdown",
   "id": "681035d5",
   "metadata": {},
   "source": [
    "#### Average Heart Rate versus Average Speed (km/h)"
   ]
  },
  {
   "cell_type": "code",
   "execution_count": 11,
   "id": "4be2fc94-dd5f-4804-afb3-b58ce4c06c2b",
   "metadata": {},
   "outputs": [
    {
     "data": {
      "image/png": "[encoded data removed]",
      "text/plain": [
       "<Figure size 640x480 with 1 Axes>"
      ]
     },
     "metadata": {},
     "output_type": "display_data"
    }
   ],
   "source": [
    "# Line of Best Fit\n",
    "# Fit a linear regression line to the data\n",
    "degree = 1\n",
    "coefficients = np.polyfit(dfRun['bpm-Avg.'], dfRun['km/h'], degree)\n",
    "slope = coefficients[0]\n",
    "intercept = coefficients[1]\n",
    "# Calculate the predicted y-values using the line equation\n",
    "predicted_y = slope * dfRun['bpm-Avg.'] + intercept\n",
    "equation = f'y = {slope:.2f}x + {intercept:.2f}'\n",
    "\n",
    "# Plot\n",
    "plt.scatter('bpm-Avg.', 'km/h', data=dfRun)\n",
    "plt.plot(dfRun['bpm-Avg.'], predicted_y, color='blue', label='Line of Best Fit')\n",
    "plt.xlabel('Average BPM')\n",
    "plt.ylabel('Average Speed (km/h)')\n",
    "plt.title('Average HR versus Speed')\n",
    "plt.text(0.01, 0.81, equation, fontsize=11, transform=plt.gca().transAxes)\n",
    "plt.grid(True)\n",
    "plt.legend()\n",
    "plt.tight_layout()\n",
    "plt.savefig('Graphs/SpeedvsHR.png', dpi=300)\n",
    "plt.show()"
   ]
  },
  {
   "cell_type": "markdown",
   "id": "254ad913",
   "metadata": {},
   "source": [
    "#### Heart Rate / Speed over Time\n",
    "\n",
    "Lower is better"
   ]
  },
  {
   "cell_type": "code",
   "execution_count": 12,
   "id": "102e36ae",
   "metadata": {},
   "outputs": [
    {
     "data": {
      "image/png": "[encoded data removed]",
      "text/plain": [
       "<Figure size 640x480 with 1 Axes>"
      ]
     },
     "metadata": {},
     "output_type": "display_data"
    }
   ],
   "source": [
    "# plt.figure(figsize=(10, 6))\n",
    "plt.scatter('ISO', 'HR/Speed', data=dfRun)\n",
    "plt.xlabel('Date')\n",
    "# plt.xticks(dfRun['ISO'][::2], rotation=45)\n",
    "plt.xticks(rotation=45)\n",
    "plt.ylabel('HR/Speed')\n",
    "plt.title('HR/Speed over Time')\n",
    "plt.grid(True)\n",
    "plt.tight_layout()\n",
    "plt.savefig('Graphs/HR-Speed over Time.png', dpi=300)\n",
    "plt.show()"
   ]
  },
  {
   "cell_type": "code",
   "execution_count": 13,
   "id": "47347cab",
   "metadata": {},
   "outputs": [],
   "source": [
    "# Average Duration, Distance, Average HR, Average Max HR Average Calories\n",
    "avg_dist = round(dfRun['km'].mean(),2)\n",
    "avg_hr = round(dfRun['bpm-Avg.'].mean(),2)\n",
    "avg_wght_hr = round(dfRunWght['Weighted HR'].sum() / dfRunWght['Duration'].sum(),2)\n",
    "avg_maxhr = round(dfRun['bpm-hi'].mean(),2)\n",
    "avg_cals = round(dfRun['Cals'].mean(),2)\n",
    "avg_dur = dfRun['Duration'].mean()\n",
    "\n",
    "# Count Runs\n",
    "num_runs = dfRun['km'].count()\n",
    "ovr_5k = dfRun[dfRun['km'] >=5].count()['km']\n",
    "povr_5k = round(ovr_5k / num_runs *100,2)\n",
    "ovr_10k = dfRun[dfRun['km'] >=10].count()['km']\n",
    "povr_10k = round(ovr_10k / num_runs *100,2)\n",
    "\n",
    "# Maximums\n",
    "max_dur = dfRun['Duration'].max()\n",
    "max_dist = dfRun['km'].max()\n",
    "max_avghr = dfRun['bpm-Avg.'].max()\n",
    "max_maxhr = dfRun['bpm-hi'].max()\n",
    "max_cals = dfRun['Cals'].max()\n",
    "\n",
    "# Totals\n",
    "tot_dist = round(dfRun['km'].sum(),2)\n",
    "tot_dur = dfRun['Duration'].sum()\n",
    "tot_cals = round(dfRun['Cals'].sum(),2)\n",
    "\n",
    "# Medians\n",
    "med_dist = round(dfRun['km'].median(),2)\n",
    "med_avg_hr = round(dfRun['bpm-Avg.'].median(),2)\n",
    "med_max_hr = round(dfRun['bpm-hi'].median(),2)\n",
    "med_cals = round(dfRun['Cals'].median(),2)\n",
    "\n",
    "# Durations to Time Format\n",
    "avg_dur_h = int(avg_dur)\n",
    "max_dur_h = int(max_dur)\n",
    "tot_dur_h = int(tot_dur)\n",
    "\n",
    "avg_dur_m_dec = (avg_dur - avg_dur_h)*60\n",
    "max_dur_m_dec = (max_dur - max_dur_h)*60\n",
    "tot_dur_m_dec = (tot_dur - tot_dur_h)*60\n",
    "\n",
    "avg_dur_m = int(avg_dur_m_dec)\n",
    "max_dur_m = int(max_dur_m_dec)\n",
    "tot_dur_m = int(tot_dur_m_dec)\n",
    "\n",
    "avg_dur_s = int((avg_dur_m_dec - avg_dur_m)*60)\n",
    "max_dur_s = int((max_dur_m_dec - max_dur_m)*60)\n",
    "tot_dur_s = int((tot_dur_m_dec - tot_dur_m)*60)\n",
    "\n",
    "avg_dur_f = str(avg_dur_h) + ':' + str(avg_dur_m) + ':' + str(avg_dur_s)\n",
    "max_dur_f = str(max_dur_h) + ':' + str(max_dur_m) + ':' + str(max_dur_s)\n",
    "tot_dur_f = str(tot_dur_h) + ':' + str(tot_dur_m) + ':' + str(tot_dur_s)"
   ]
  },
  {
   "cell_type": "markdown",
   "id": "50698f35",
   "metadata": {},
   "source": [
    "## Final Running Stats"
   ]
  },
  {
   "cell_type": "code",
   "execution_count": 14,
   "id": "3c296992-6509-43f6-9e95-f0a1b828526c",
   "metadata": {
    "tags": []
   },
   "outputs": [
    {
     "name": "stdout",
     "output_type": "stream",
     "text": [
      "Runs: 16\n",
      "Runs over 5k(%): 12 (75.0%)\n",
      "Runs over 10k(%): 0 (0.0%)\n",
      "----------------------------\n",
      "Average Duration: 0:43:5\n",
      "Average Distance: 5.81\n",
      "Average Pace: 7:25.0\n",
      "Average Weighted HR: 150.6\n",
      "Average HR: 151.23\n",
      "Average Max HR: 169.06\n",
      "Average Calories: 475.62\n",
      "----------------------------\n",
      "Max Duration: 1:8:11\n",
      "Max Distance: 9.22\n",
      "Max Average HR: 157.9\n",
      "Max Max HR: 189.0\n",
      "Max Calories: 792.8\n",
      "----------------------------\n",
      "Median Distance: 5.59\n",
      "Median Avg HR: 151.35\n",
      "Median Max HR: 167.0\n",
      "Median Calories: 460.85\n",
      "----------------------------\n",
      "Total Duration: 11:29:34\n",
      "Total Distance: 92.96\n",
      "Total Calories Burn: 7609.9\n",
      "----------------------------\n",
      "Runtime: 1.16s\n"
     ]
    }
   ],
   "source": [
    "print(f'Runs: {num_runs}')\n",
    "print(f'Runs over 5k(%): {ovr_5k} ({povr_5k}%)')\n",
    "print(f'Runs over 10k(%): {ovr_10k} ({povr_10k}%)')\n",
    "\n",
    "print('----------------------------')\n",
    "print(f'Average Duration: {avg_dur_f}')\n",
    "print(f'Average Distance: {avg_dist}')\n",
    "print(f\"Average Pace: {integer_part}:{decimal_minutes}\")\n",
    "print(f'Average Weighted HR: {avg_wght_hr}')\n",
    "print(f'Average HR: {avg_hr}')\n",
    "print(f'Average Max HR: {avg_maxhr}')\n",
    "print(f'Average Calories: {avg_cals}')\n",
    "\n",
    "print('----------------------------')\n",
    "print(f'Max Duration: {max_dur_f}')\n",
    "print(f'Max Distance: {max_dist}')\n",
    "print(f'Max Average HR: {max_avghr}')\n",
    "print(f'Max Max HR: {max_maxhr}')\n",
    "print(f'Max Calories: {max_cals}')\n",
    "\n",
    "print('----------------------------')\n",
    "print(f'Median Distance: {med_dist}')\n",
    "print(f'Median Avg HR: {med_avg_hr}')\n",
    "print(f'Median Max HR: {med_max_hr}')\n",
    "print(f'Median Calories: {med_cals}')\n",
    "\n",
    "print('----------------------------')\n",
    "print(f'Total Duration: {tot_dur_f}')\n",
    "print(f'Total Distance: {tot_dist}')\n",
    "print(f'Total Calories Burn: {tot_cals}')\n",
    "\n",
    "print('----------------------------')\n",
    "print(f'Runtime: {round(time.perf_counter() - start,2)}s')"
   ]
  }
 ],
 "metadata": {
  "kernelspec": {
   "display_name": "Python 3 (ipykernel)",
   "language": "python",
   "name": "python3"
  },
  "language_info": {
   "codemirror_mode": {
    "name": "ipython",
    "version": 3
   },
   "file_extension": ".py",
   "mimetype": "text/x-python",
   "name": "python",
   "nbconvert_exporter": "python",
   "pygments_lexer": "ipython3",
   "version": "3.11.0"
  }
 },
 "nbformat": 4,
 "nbformat_minor": 5
}
