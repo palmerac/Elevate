{
 "cells": [
  {
   "cell_type": "markdown",
   "id": "2e304651-7701-4d41-b475-dc17b7617058",
   "metadata": {},
   "source": [
    "# Running Pace Analysis Models"
   ]
  },
  {
   "cell_type": "markdown",
   "id": "71d1ade7-a1ba-4bc6-a159-d43c686b036c",
   "metadata": {},
   "source": [
    "## Initial Code"
   ]
  },
  {
   "cell_type": "markdown",
   "id": "2f8965a9-a271-4fb1-98fe-f54f64104714",
   "metadata": {
    "jp-MarkdownHeadingCollapsed": true
   },
   "source": [
    "Imports"
   ]
  },
  {
   "cell_type": "code",
   "execution_count": 112,
   "id": "da273d20-f6bc-4047-b2da-20fd8e771f17",
   "metadata": {},
   "outputs": [],
   "source": [
    "import pandas as pd\n",
    "import numpy as np\n",
    "import matplotlib.pyplot as plt\n",
    "import seaborn as sns\n",
    "import time \n",
    "from datetime import datetime\n",
    "import warnings\n",
    "\n",
    "plt.style.use('ggplot')\n",
    "warnings.filterwarnings('ignore')\n",
    "\n",
    "int_start = time.perf_counter()"
   ]
  },
  {
   "cell_type": "code",
   "execution_count": 113,
   "id": "9dca7808-8751-4629-ad2e-04e075f7caba",
   "metadata": {},
   "outputs": [],
   "source": [
    "df = pd.read_csv('HeartWatch-Workouts-20230717-to-20230829.csv')"
   ]
  },
  {
   "cell_type": "markdown",
   "id": "5738105c-b2ec-482f-85c9-d0876d44240a",
   "metadata": {},
   "source": [
    "Select Running activities and drop irrelevant columns"
   ]
  },
  {
   "cell_type": "code",
   "execution_count": 114,
   "id": "493da45f-b2d1-4c6d-8706-c781cc7495c4",
   "metadata": {},
   "outputs": [],
   "source": [
    "df = df[df['Type'] == 'Running'].reset_index(drop=True)\n",
    "df = df.drop(['Type', 'rpe', 'ISO', 'Date', 'to','90%+-mins', '80-90%-mins',\n",
    "             '70-80%-mins', '60-70%-mins', '50-60%-mins', 'Load', 'Cals', 'Cals/h',\n",
    "             '/km', 'km/h', 'bpm-%'],axis=1)"
   ]
  },
  {
   "cell_type": "markdown",
   "id": "06cf8297-9071-46ed-b73e-e74e67d912bd",
   "metadata": {},
   "source": [
    "Convert Duration into total seconds   \n",
    "Convert Activity start time to hour decimal in 24hr time    \n",
    "Calculate Pace"
   ]
  },
  {
   "cell_type": "code",
   "execution_count": 115,
   "id": "8644bf23-a64f-4366-8035-e02d8723d849",
   "metadata": {},
   "outputs": [],
   "source": [
    "df['Duration'] = pd.to_timedelta(df['Duration'])\n",
    "df['Duration'] = df['Duration'].dt.total_seconds()\n",
    "\n",
    "# Convert the 'from' column to datetime format\n",
    "df['from'] = pd.to_datetime(df['from'], format='%I:%M %p')\n",
    "\n",
    "# Extract hour and minute information\n",
    "df['hour'] = df['from'].dt.hour\n",
    "df['minute'] = df['from'].dt.minute\n",
    "\n",
    "df['hour'] = round(df['hour'] + (df['minute']/60),3)\n",
    "\n",
    "df = df.drop(['from', 'minute'], axis=1)\n",
    "\n",
    "df['Pace'] = (df['Duration'] / 60) / df['km']"
   ]
  },
  {
   "cell_type": "code",
   "execution_count": 116,
   "id": "b969e837-32ed-4d09-aa23-2913a812f11a",
   "metadata": {},
   "outputs": [
    {
     "data": {
      "text/html": [
       "<div>\n",
       "<style scoped>\n",
       "    .dataframe tbody tr th:only-of-type {\n",
       "        vertical-align: middle;\n",
       "    }\n",
       "\n",
       "    .dataframe tbody tr th {\n",
       "        vertical-align: top;\n",
       "    }\n",
       "\n",
       "    .dataframe thead th {\n",
       "        text-align: right;\n",
       "    }\n",
       "</style>\n",
       "<table border=\"1\" class=\"dataframe\">\n",
       "  <thead>\n",
       "    <tr style=\"text-align: right;\">\n",
       "      <th></th>\n",
       "      <th>Duration</th>\n",
       "      <th>bpm-Avg.</th>\n",
       "      <th>bpm-lo</th>\n",
       "      <th>bpm-hi</th>\n",
       "      <th>bpm-90%+-%</th>\n",
       "      <th>bpm-80-90%-%</th>\n",
       "      <th>bpm-70-80%-%</th>\n",
       "      <th>bpm-60-70%-%</th>\n",
       "      <th>bpm-50-60%-%</th>\n",
       "      <th>km</th>\n",
       "      <th>hour</th>\n",
       "      <th>Pace</th>\n",
       "    </tr>\n",
       "  </thead>\n",
       "  <tbody>\n",
       "    <tr>\n",
       "      <th>0</th>\n",
       "      <td>1804.0</td>\n",
       "      <td>155.9</td>\n",
       "      <td>110.0</td>\n",
       "      <td>164.0</td>\n",
       "      <td>NaN</td>\n",
       "      <td>79.5</td>\n",
       "      <td>19.6</td>\n",
       "      <td>0.7</td>\n",
       "      <td>0.2</td>\n",
       "      <td>3.81</td>\n",
       "      <td>11.883</td>\n",
       "      <td>7.891514</td>\n",
       "    </tr>\n",
       "    <tr>\n",
       "      <th>1</th>\n",
       "      <td>2216.0</td>\n",
       "      <td>157.3</td>\n",
       "      <td>88.0</td>\n",
       "      <td>170.0</td>\n",
       "      <td>NaN</td>\n",
       "      <td>80.3</td>\n",
       "      <td>13.1</td>\n",
       "      <td>4.9</td>\n",
       "      <td>0.5</td>\n",
       "      <td>5.06</td>\n",
       "      <td>8.750</td>\n",
       "      <td>7.299078</td>\n",
       "    </tr>\n",
       "    <tr>\n",
       "      <th>2</th>\n",
       "      <td>1891.0</td>\n",
       "      <td>152.8</td>\n",
       "      <td>102.0</td>\n",
       "      <td>181.0</td>\n",
       "      <td>2.7</td>\n",
       "      <td>50.5</td>\n",
       "      <td>43.5</td>\n",
       "      <td>2.9</td>\n",
       "      <td>0.5</td>\n",
       "      <td>4.08</td>\n",
       "      <td>8.833</td>\n",
       "      <td>7.724673</td>\n",
       "    </tr>\n",
       "    <tr>\n",
       "      <th>3</th>\n",
       "      <td>2244.0</td>\n",
       "      <td>157.0</td>\n",
       "      <td>94.0</td>\n",
       "      <td>168.0</td>\n",
       "      <td>NaN</td>\n",
       "      <td>85.1</td>\n",
       "      <td>12.3</td>\n",
       "      <td>1.3</td>\n",
       "      <td>1.1</td>\n",
       "      <td>5.38</td>\n",
       "      <td>9.117</td>\n",
       "      <td>6.951673</td>\n",
       "    </tr>\n",
       "    <tr>\n",
       "      <th>4</th>\n",
       "      <td>3631.0</td>\n",
       "      <td>145.9</td>\n",
       "      <td>104.0</td>\n",
       "      <td>155.0</td>\n",
       "      <td>NaN</td>\n",
       "      <td>0.6</td>\n",
       "      <td>93.6</td>\n",
       "      <td>5.3</td>\n",
       "      <td>0.5</td>\n",
       "      <td>7.49</td>\n",
       "      <td>8.733</td>\n",
       "      <td>8.079662</td>\n",
       "    </tr>\n",
       "  </tbody>\n",
       "</table>\n",
       "</div>"
      ],
      "text/plain": [
       "   Duration  bpm-Avg.  bpm-lo  bpm-hi  bpm-90%+-%  bpm-80-90%-%  bpm-70-80%-%  \\\n",
       "0    1804.0     155.9   110.0   164.0         NaN          79.5          19.6   \n",
       "1    2216.0     157.3    88.0   170.0         NaN          80.3          13.1   \n",
       "2    1891.0     152.8   102.0   181.0         2.7          50.5          43.5   \n",
       "3    2244.0     157.0    94.0   168.0         NaN          85.1          12.3   \n",
       "4    3631.0     145.9   104.0   155.0         NaN           0.6          93.6   \n",
       "\n",
       "   bpm-60-70%-%  bpm-50-60%-%    km    hour      Pace  \n",
       "0           0.7           0.2  3.81  11.883  7.891514  \n",
       "1           4.9           0.5  5.06   8.750  7.299078  \n",
       "2           2.9           0.5  4.08   8.833  7.724673  \n",
       "3           1.3           1.1  5.38   9.117  6.951673  \n",
       "4           5.3           0.5  7.49   8.733  8.079662  "
      ]
     },
     "execution_count": 116,
     "metadata": {},
     "output_type": "execute_result"
    }
   ],
   "source": [
    "df.head()"
   ]
  },
  {
   "cell_type": "markdown",
   "id": "9dddefb4-4dee-49fc-9261-125ac1b79709",
   "metadata": {},
   "source": [
    "### Correlation Matrix"
   ]
  },
  {
   "cell_type": "code",
   "execution_count": 117,
   "id": "03a68132-342b-485f-9e0d-2a73241dea8e",
   "metadata": {
    "scrolled": true
   },
   "outputs": [
    {
     "name": "stdout",
     "output_type": "stream",
     "text": [
      "Pace            1.000000\n",
      "bpm-Avg.        0.622623\n",
      "bpm-50-60%-%    0.605836\n",
      "km              0.524776\n",
      "bpm-90%+-%      0.509929\n",
      "bpm-60-70%-%    0.370533\n",
      "bpm-80-90%-%    0.346551\n",
      "Duration        0.331300\n",
      "bpm-hi          0.299981\n",
      "bpm-lo          0.245598\n",
      "hour            0.203075\n",
      "bpm-70-80%-%    0.104398\n",
      "Name: Pace, dtype: float64\n"
     ]
    },
    {
     "data": {
      "image/png": "[encoded data removed]",
      "text/plain": [
       "<Figure size 640x480 with 2 Axes>"
      ]
     },
     "metadata": {},
     "output_type": "display_data"
    }
   ],
   "source": [
    "corr_mtrx = df.corr().abs()\n",
    "sns.heatmap(corr_mtrx, cmap='coolwarm')\n",
    "print(corr_mtrx['Pace'].sort_values(ascending=False))"
   ]
  },
  {
   "cell_type": "markdown",
   "id": "19e731f1-79c6-4eba-96af-e09d2e94992f",
   "metadata": {},
   "source": [
    "### Summary Statistics"
   ]
  },
  {
   "cell_type": "code",
   "execution_count": 118,
   "id": "8e959271-3dc5-4763-8841-5da00fe8c9a7",
   "metadata": {},
   "outputs": [
    {
     "data": {
      "text/html": [
       "<div>\n",
       "<style scoped>\n",
       "    .dataframe tbody tr th:only-of-type {\n",
       "        vertical-align: middle;\n",
       "    }\n",
       "\n",
       "    .dataframe tbody tr th {\n",
       "        vertical-align: top;\n",
       "    }\n",
       "\n",
       "    .dataframe thead th {\n",
       "        text-align: right;\n",
       "    }\n",
       "</style>\n",
       "<table border=\"1\" class=\"dataframe\">\n",
       "  <thead>\n",
       "    <tr style=\"text-align: right;\">\n",
       "      <th></th>\n",
       "      <th>count</th>\n",
       "      <th>mean</th>\n",
       "      <th>std</th>\n",
       "      <th>min</th>\n",
       "      <th>25%</th>\n",
       "      <th>50%</th>\n",
       "      <th>75%</th>\n",
       "      <th>max</th>\n",
       "    </tr>\n",
       "  </thead>\n",
       "  <tbody>\n",
       "    <tr>\n",
       "      <th>Duration</th>\n",
       "      <td>24.0</td>\n",
       "      <td>2916.083333</td>\n",
       "      <td>902.199579</td>\n",
       "      <td>1788.000000</td>\n",
       "      <td>2267.250000</td>\n",
       "      <td>2788.000000</td>\n",
       "      <td>3428.000000</td>\n",
       "      <td>4886.000000</td>\n",
       "    </tr>\n",
       "    <tr>\n",
       "      <th>bpm-Avg.</th>\n",
       "      <td>24.0</td>\n",
       "      <td>149.108333</td>\n",
       "      <td>8.700171</td>\n",
       "      <td>118.400000</td>\n",
       "      <td>146.775000</td>\n",
       "      <td>150.900000</td>\n",
       "      <td>154.050000</td>\n",
       "      <td>160.200000</td>\n",
       "    </tr>\n",
       "    <tr>\n",
       "      <th>bpm-lo</th>\n",
       "      <td>24.0</td>\n",
       "      <td>94.916667</td>\n",
       "      <td>10.619574</td>\n",
       "      <td>72.000000</td>\n",
       "      <td>87.250000</td>\n",
       "      <td>94.000000</td>\n",
       "      <td>102.500000</td>\n",
       "      <td>117.000000</td>\n",
       "    </tr>\n",
       "    <tr>\n",
       "      <th>bpm-hi</th>\n",
       "      <td>24.0</td>\n",
       "      <td>170.250000</td>\n",
       "      <td>15.220838</td>\n",
       "      <td>150.000000</td>\n",
       "      <td>160.750000</td>\n",
       "      <td>167.000000</td>\n",
       "      <td>177.000000</td>\n",
       "      <td>218.000000</td>\n",
       "    </tr>\n",
       "    <tr>\n",
       "      <th>bpm-90%+-%</th>\n",
       "      <td>8.0</td>\n",
       "      <td>11.212500</td>\n",
       "      <td>11.965120</td>\n",
       "      <td>0.800000</td>\n",
       "      <td>2.500000</td>\n",
       "      <td>6.000000</td>\n",
       "      <td>17.225000</td>\n",
       "      <td>30.000000</td>\n",
       "    </tr>\n",
       "    <tr>\n",
       "      <th>bpm-80-90%-%</th>\n",
       "      <td>22.0</td>\n",
       "      <td>35.504545</td>\n",
       "      <td>27.912235</td>\n",
       "      <td>0.600000</td>\n",
       "      <td>10.100000</td>\n",
       "      <td>34.550000</td>\n",
       "      <td>54.200000</td>\n",
       "      <td>85.100000</td>\n",
       "    </tr>\n",
       "    <tr>\n",
       "      <th>bpm-70-80%-%</th>\n",
       "      <td>24.0</td>\n",
       "      <td>53.658333</td>\n",
       "      <td>26.409055</td>\n",
       "      <td>12.300000</td>\n",
       "      <td>29.650000</td>\n",
       "      <td>52.350000</td>\n",
       "      <td>73.275000</td>\n",
       "      <td>96.500000</td>\n",
       "    </tr>\n",
       "    <tr>\n",
       "      <th>bpm-60-70%-%</th>\n",
       "      <td>24.0</td>\n",
       "      <td>7.025000</td>\n",
       "      <td>7.581055</td>\n",
       "      <td>0.700000</td>\n",
       "      <td>2.525000</td>\n",
       "      <td>4.750000</td>\n",
       "      <td>6.525000</td>\n",
       "      <td>28.800000</td>\n",
       "    </tr>\n",
       "    <tr>\n",
       "      <th>bpm-50-60%-%</th>\n",
       "      <td>23.0</td>\n",
       "      <td>1.782609</td>\n",
       "      <td>3.082893</td>\n",
       "      <td>0.200000</td>\n",
       "      <td>0.400000</td>\n",
       "      <td>0.800000</td>\n",
       "      <td>1.700000</td>\n",
       "      <td>15.100000</td>\n",
       "    </tr>\n",
       "    <tr>\n",
       "      <th>km</th>\n",
       "      <td>24.0</td>\n",
       "      <td>6.730417</td>\n",
       "      <td>2.427832</td>\n",
       "      <td>3.810000</td>\n",
       "      <td>5.135000</td>\n",
       "      <td>6.365000</td>\n",
       "      <td>7.620000</td>\n",
       "      <td>12.610000</td>\n",
       "    </tr>\n",
       "    <tr>\n",
       "      <th>hour</th>\n",
       "      <td>24.0</td>\n",
       "      <td>10.270875</td>\n",
       "      <td>1.926467</td>\n",
       "      <td>8.283000</td>\n",
       "      <td>9.041750</td>\n",
       "      <td>9.633500</td>\n",
       "      <td>10.379250</td>\n",
       "      <td>15.567000</td>\n",
       "    </tr>\n",
       "    <tr>\n",
       "      <th>Pace</th>\n",
       "      <td>24.0</td>\n",
       "      <td>7.330358</td>\n",
       "      <td>0.601956</td>\n",
       "      <td>6.393074</td>\n",
       "      <td>6.891615</td>\n",
       "      <td>7.347117</td>\n",
       "      <td>7.600306</td>\n",
       "      <td>9.136508</td>\n",
       "    </tr>\n",
       "  </tbody>\n",
       "</table>\n",
       "</div>"
      ],
      "text/plain": [
       "              count         mean         std          min          25%  \\\n",
       "Duration       24.0  2916.083333  902.199579  1788.000000  2267.250000   \n",
       "bpm-Avg.       24.0   149.108333    8.700171   118.400000   146.775000   \n",
       "bpm-lo         24.0    94.916667   10.619574    72.000000    87.250000   \n",
       "bpm-hi         24.0   170.250000   15.220838   150.000000   160.750000   \n",
       "bpm-90%+-%      8.0    11.212500   11.965120     0.800000     2.500000   \n",
       "bpm-80-90%-%   22.0    35.504545   27.912235     0.600000    10.100000   \n",
       "bpm-70-80%-%   24.0    53.658333   26.409055    12.300000    29.650000   \n",
       "bpm-60-70%-%   24.0     7.025000    7.581055     0.700000     2.525000   \n",
       "bpm-50-60%-%   23.0     1.782609    3.082893     0.200000     0.400000   \n",
       "km             24.0     6.730417    2.427832     3.810000     5.135000   \n",
       "hour           24.0    10.270875    1.926467     8.283000     9.041750   \n",
       "Pace           24.0     7.330358    0.601956     6.393074     6.891615   \n",
       "\n",
       "                      50%          75%          max  \n",
       "Duration      2788.000000  3428.000000  4886.000000  \n",
       "bpm-Avg.       150.900000   154.050000   160.200000  \n",
       "bpm-lo          94.000000   102.500000   117.000000  \n",
       "bpm-hi         167.000000   177.000000   218.000000  \n",
       "bpm-90%+-%       6.000000    17.225000    30.000000  \n",
       "bpm-80-90%-%    34.550000    54.200000    85.100000  \n",
       "bpm-70-80%-%    52.350000    73.275000    96.500000  \n",
       "bpm-60-70%-%     4.750000     6.525000    28.800000  \n",
       "bpm-50-60%-%     0.800000     1.700000    15.100000  \n",
       "km               6.365000     7.620000    12.610000  \n",
       "hour             9.633500    10.379250    15.567000  \n",
       "Pace             7.347117     7.600306     9.136508  "
      ]
     },
     "execution_count": 118,
     "metadata": {},
     "output_type": "execute_result"
    }
   ],
   "source": [
    "df.describe().transpose()"
   ]
  },
  {
   "cell_type": "markdown",
   "id": "ab1116b7-9d9c-4d28-a8e1-091ce0b0c8e6",
   "metadata": {},
   "source": [
    "#### Histograms"
   ]
  },
  {
   "cell_type": "code",
   "execution_count": 119,
   "id": "6aa9d93f-e359-4303-9ed6-da6d932b0dbe",
   "metadata": {},
   "outputs": [
    {
     "data": {
      "image/png": "[encoded data removed]",
      "text/plain": [
       "<Figure size 1600x1200 with 12 Axes>"
      ]
     },
     "metadata": {},
     "output_type": "display_data"
    }
   ],
   "source": [
    "df.hist(bins=15, figsize=(16, 12))\n",
    "plt.tight_layout()\n",
    "plt.show()"
   ]
  },
  {
   "cell_type": "markdown",
   "id": "31b544ea-da12-4715-a1f1-35e9fbd9ff3d",
   "metadata": {},
   "source": [
    "### Train/Test Split and Scaling"
   ]
  },
  {
   "cell_type": "code",
   "execution_count": 120,
   "id": "3bdbbac1-9e02-485d-843d-8a1e9c68ab9a",
   "metadata": {},
   "outputs": [],
   "source": [
    "from sklearn.impute import SimpleImputer\n",
    "from sklearn.pipeline import make_pipeline\n",
    "from sklearn.preprocessing import StandardScaler\n",
    "from sklearn.linear_model import LinearRegression\n",
    "from sklearn.model_selection import train_test_split\n",
    "from sklearn.metrics import mean_squared_error"
   ]
  },
  {
   "cell_type": "code",
   "execution_count": 121,
   "id": "3b236d06-b2d4-4fd1-b2a1-c0a1855cd825",
   "metadata": {},
   "outputs": [
    {
     "name": "stdout",
     "output_type": "stream",
     "text": [
      "X Shape: (24, 11)\n",
      "Y Shape: (24,)\n"
     ]
    }
   ],
   "source": [
    "# Define features (X) and target variable (y)\n",
    "X = df.drop('Pace', axis=1) \n",
    "y = df['Pace'] \n",
    "\n",
    "print(f'X Shape: {X.shape}')\n",
    "print(f'Y Shape: {y.shape}')"
   ]
  },
  {
   "cell_type": "code",
   "execution_count": 122,
   "id": "366e4300-4db7-4f85-a94a-69bded5f856d",
   "metadata": {},
   "outputs": [
    {
     "name": "stdout",
     "output_type": "stream",
     "text": [
      "X Train Shape: (19, 11)\n",
      "X Test Shape: (5, 11)\n"
     ]
    }
   ],
   "source": [
    "# Split the data into training and testing sets\n",
    "X_train, X_test, y_train, y_test = train_test_split(X, y, test_size=0.2,\n",
    "                                                    random_state=1#121)\n",
    "print(f'X Train Shape: {X_train.shape}')\n",
    "print(f'X Test Shape: {X_test.shape}')"
   ]
  },
  {
   "cell_type": "code",
   "execution_count": 123,
   "id": "62085275-35f1-4053-9cbc-a6046b19a29c",
   "metadata": {},
   "outputs": [
    {
     "name": "stdout",
     "output_type": "stream",
     "text": [
      "X_train_prcsd shape: (19, 11)\n",
      "X_test_prcsd shape: (5, 11)\n"
     ]
    }
   ],
   "source": [
    "pipe = make_pipeline(SimpleImputer(strategy='constant', fill_value=0), StandardScaler())\n",
    "\n",
    "X_train_processed = pipe.fit_transform(X_train)\n",
    "X_test_processed = pipe.transform(X_test)\n",
    "\n",
    "print(f'X_train_prcsd shape: {X_train_processed.shape}')\n",
    "print(f'X_test_prcsd shape: {X_test_processed.shape}')"
   ]
  },
  {
   "cell_type": "markdown",
   "id": "d5661f18-db73-46a6-b39a-5290b8b1566d",
   "metadata": {},
   "source": [
    "### Results Functions"
   ]
  },
  {
   "cell_type": "code",
   "execution_count": 124,
   "id": "f64f6353-8829-41c8-a607-3193ec700c73",
   "metadata": {},
   "outputs": [],
   "source": [
    "from sklearn.metrics import mean_absolute_error, mean_squared_error, r2_score\n",
    "\n",
    "MSE_Histmean = mean_squared_error(y_test,np.full(y_test.shape,np.mean(y_train)))\n",
    "\n",
    "def ResultsOut(model):\n",
    "  y_pred = model.predict(X_test_processed)\n",
    "  # Calculate regression metrics\n",
    "  mae = mean_absolute_error(y_test, y_pred)\n",
    "  mse = mean_squared_error(y_test, y_pred)\n",
    "  rmse = mean_squared_error(y_test, y_pred, squared=False)\n",
    "  r2 = r2_score(y_test, y_pred)\n",
    "  oosr2 = 1-mean_squared_error(y_test,y_pred)/MSE_Histmean\n",
    "  # Print the metrics with newline characters\n",
    "  print(\"MAE: {:.2f}\".format(mae))\n",
    "  print(\"MSE: {:.2f}\".format(mse))\n",
    "  print(\"RMSE: {:.2f}\".format(rmse))\n",
    "  print(\"R^2 Score: {:.2f}\".format(r2))\n",
    "  print(\"OOS R^2 Score: {:.2f}\".format(oosr2))\n",
    "  return ''\n",
    "\n",
    "def paramResults(mod):\n",
    "    results_df = pd.DataFrame({'param': mod.cv_results_[\"params\"], 'Accuracy': mod.cv_results_[\"mean_test_score\"]})\n",
    "\n",
    "    # Splitting the 'param' column into separate columns\n",
    "    params_df = pd.DataFrame(results_df['param'].to_list())\n",
    "    params_df.columns = [f\"{col}_param\" for col in params_df.columns]\n",
    "\n",
    "    # Concatenating the new columns with the 'Accuracy' column\n",
    "    results_df = pd.concat([params_df, results_df['Accuracy']], axis=1)\n",
    "\n",
    "    # Displaying the updated DataFrame\n",
    "    print(results_df)\n",
    "    return ''\n",
    "\n",
    "def featImport(mod):\n",
    "    feat_importances = pd.DataFrame(mod.best_estimator_.feature_importances_[:11], index=X_train.columns, columns=[\"Importance\"])\n",
    "    feat_importances.sort_values(by='Importance', ascending=False, inplace=True)\n",
    "    feat_importances.plot(kind='bar', figsize=(8,6))\n",
    "    plt.show()"
   ]
  },
  {
   "cell_type": "markdown",
   "id": "59fc2d6d-2870-4fa9-a26f-766f65b26bc7",
   "metadata": {},
   "source": [
    "## Models"
   ]
  },
  {
   "cell_type": "markdown",
   "id": "3cfed5c0-0a7c-4065-ac78-577aec1ae97e",
   "metadata": {},
   "source": [
    "### Linear Regression"
   ]
  },
  {
   "cell_type": "code",
   "execution_count": 125,
   "id": "26df4a7b-14b1-4906-8ec9-61b0644990ba",
   "metadata": {},
   "outputs": [
    {
     "name": "stdout",
     "output_type": "stream",
     "text": [
      "MAE: 0.69\n",
      "MSE: 0.68\n",
      "RMSE: 0.82\n",
      "R^2 Score: -6.21\n",
      "OOS R^2 Score: -0.57\n",
      "\n"
     ]
    }
   ],
   "source": [
    "from sklearn.linear_model import LinearRegression\n",
    "\n",
    "linreg = LinearRegression()\n",
    "linreg.fit(X_train_processed,y_train)\n",
    "linreg_preds = linreg.predict(X_test_processed)\n",
    "\n",
    "print(ResultsOut(linreg))"
   ]
  },
  {
   "cell_type": "markdown",
   "id": "b75743ae-4cbf-4173-ab50-7a2bd2a3f20d",
   "metadata": {},
   "source": [
    "### Ridge"
   ]
  },
  {
   "cell_type": "code",
   "execution_count": 126,
   "id": "5dacdd7f-4977-4394-bbb2-af6a5b5f5840",
   "metadata": {
    "scrolled": true
   },
   "outputs": [
    {
     "name": "stdout",
     "output_type": "stream",
     "text": [
      "Ridge(alpha=0.01)\n",
      "   alpha_param  Accuracy\n",
      "0    10000.000 -0.826456\n",
      "1     1000.000 -0.820997\n",
      "2      100.000 -0.762446\n",
      "3       10.000 -0.409123\n",
      "4        1.000 -0.209697\n",
      "5        0.100  0.263777\n",
      "6        0.010  0.723894\n",
      "7        0.001  0.519077\n",
      "\n",
      "MAE: 0.70\n",
      "MSE: 0.71\n",
      "RMSE: 0.84\n",
      "R^2 Score: -6.47\n",
      "OOS R^2 Score: -0.63\n",
      "\n"
     ]
    }
   ],
   "source": [
    "from sklearn.model_selection import GridSearchCV\n",
    "from sklearn.linear_model import Ridge\n",
    "\n",
    "Alpha = [10**4,10**3,10**2,10**1,10**0,10**-1,10**-2,10**-3]\n",
    "\n",
    "# Scoring in sklearn is done by choosing the largest value\n",
    "param_grid_ridge={'alpha':Alpha}\n",
    "\n",
    "ridge = GridSearchCV(Ridge(),param_grid=param_grid_ridge,cv=5,n_jobs=-1)\n",
    "\n",
    "ridge.fit(X_train_processed,y_train)\n",
    "ridge_preds = ridge.predict(X_test_processed)\n",
    "\n",
    "print(ridge.best_estimator_)\n",
    "print(paramResults(ridge))\n",
    "print(ResultsOut(ridge))"
   ]
  },
  {
   "cell_type": "markdown",
   "id": "301bc339-9d87-4fd5-b156-7cb2df6a8c8e",
   "metadata": {},
   "source": [
    "### Lasso"
   ]
  },
  {
   "cell_type": "code",
   "execution_count": 127,
   "id": "9f5b45a8-9f56-4582-a6d5-54c4a0557ab2",
   "metadata": {
    "scrolled": true
   },
   "outputs": [
    {
     "name": "stdout",
     "output_type": "stream",
     "text": [
      "Lasso(alpha=0.001, max_iter=10000)\n",
      "   alpha_param  Accuracy\n",
      "0    10000.000 -0.827055\n",
      "1     1000.000 -0.827055\n",
      "2      100.000 -0.827055\n",
      "3       10.000 -0.827055\n",
      "4        1.000 -0.827055\n",
      "5        0.100 -0.572454\n",
      "6        0.010  0.292130\n",
      "7        0.001  0.682366\n",
      "\n",
      "MAE: 0.63\n",
      "MSE: 0.55\n",
      "RMSE: 0.74\n",
      "R^2 Score: -4.79\n",
      "OOS R^2 Score: -0.26\n",
      "\n"
     ]
    }
   ],
   "source": [
    "from sklearn.linear_model import Lasso\n",
    "\n",
    "lasso = GridSearchCV(Lasso(max_iter=10000),param_grid=param_grid_ridge,cv=5,n_jobs=-1)\n",
    "\n",
    "lasso.fit(X_train_processed,y_train)\n",
    "lasso_preds = ridge.predict(X_test_processed)\n",
    "\n",
    "print(lasso.best_estimator_)\n",
    "print(paramResults(lasso))\n",
    "print(ResultsOut(lasso))"
   ]
  },
  {
   "cell_type": "markdown",
   "id": "8555a5da-48ab-4247-a254-cbb811ce8672",
   "metadata": {},
   "source": [
    "### Elastic Net"
   ]
  },
  {
   "cell_type": "code",
   "execution_count": 128,
   "id": "e5341225-3c1b-4a2c-baa3-1cb78dc40684",
   "metadata": {},
   "outputs": [
    {
     "name": "stdout",
     "output_type": "stream",
     "text": [
      "ElasticNet(alpha=0.001, l1_ratio=0.25, max_iter=10000)\n",
      "    alpha_param  l1_ratio_param  Accuracy\n",
      "0     10000.000            0.25 -0.827055\n",
      "1     10000.000            0.50 -0.827055\n",
      "2     10000.000            0.75 -0.827055\n",
      "3      1000.000            0.25 -0.827055\n",
      "4      1000.000            0.50 -0.827055\n",
      "5      1000.000            0.75 -0.827055\n",
      "6       100.000            0.25 -0.827055\n",
      "7       100.000            0.50 -0.827055\n",
      "8       100.000            0.75 -0.827055\n",
      "9        10.000            0.25 -0.827055\n",
      "10       10.000            0.50 -0.827055\n",
      "11       10.000            0.75 -0.827055\n",
      "12        1.000            0.25 -0.839465\n",
      "13        1.000            0.50 -0.829495\n",
      "14        1.000            0.75 -0.827055\n",
      "15        0.100            0.25 -0.077948\n",
      "16        0.100            0.50 -0.260310\n",
      "17        0.100            0.75 -0.427454\n",
      "18        0.010            0.25  0.216912\n",
      "19        0.010            0.50  0.327239\n",
      "20        0.010            0.75  0.291155\n",
      "21        0.001            0.25  0.745650\n",
      "22        0.001            0.50  0.733922\n",
      "23        0.001            0.75  0.708764\n",
      "\n",
      "MAE: 0.69\n",
      "MSE: 0.69\n",
      "RMSE: 0.83\n",
      "R^2 Score: -6.32\n",
      "OOS R^2 Score: -0.59\n",
      "\n"
     ]
    }
   ],
   "source": [
    "from sklearn.linear_model import ElasticNet\n",
    "\n",
    "param_grid_elastic = {'l1_ratio':[.25, .5, .75],'alpha':Alpha}\n",
    "\n",
    "elasnet = GridSearchCV(ElasticNet(max_iter=10000),param_grid=param_grid_elastic,cv=5,n_jobs=-1)\n",
    "elasnet.fit(X_train_processed,y_train)\n",
    "elasnet.predict(X_test_processed)\n",
    "\n",
    "print(elasnet.best_estimator_)\n",
    "print(paramResults(elasnet))\n",
    "print(ResultsOut(elasnet))"
   ]
  },
  {
   "cell_type": "markdown",
   "id": "676d4221-c513-4571-b6cf-42a8a510699d",
   "metadata": {},
   "source": [
    "### PCA"
   ]
  },
  {
   "cell_type": "code",
   "execution_count": 129,
   "id": "59da4a18-1578-4938-bb6f-3e34259b88e3",
   "metadata": {},
   "outputs": [
    {
     "name": "stdout",
     "output_type": "stream",
     "text": [
      "Pipeline(steps=[('pca', PCA(n_components=9)), ('ols', LinearRegression())])\n",
      "   pca__n_components_param  Accuracy\n",
      "0                        1 -1.434061\n",
      "1                        3 -1.270109\n",
      "2                        5 -0.474018\n",
      "3                        7 -0.705325\n",
      "4                        9 -0.352674\n",
      "\n",
      "MAE: 1.08\n",
      "MSE: 2.51\n",
      "RMSE: 1.58\n",
      "R^2 Score: -25.57\n",
      "OOS R^2 Score: -4.79\n",
      "\n"
     ]
    }
   ],
   "source": [
    "from sklearn.decomposition import PCA\n",
    "from sklearn.pipeline import make_pipeline, Pipeline\n",
    "\n",
    "pipe = Pipeline([(\"pca\", PCA()),\n",
    "                 (\"ols\", LinearRegression())])\n",
    "\n",
    "param_grid = [{\"pca__n_components\" : range(1,X_train_processed.shape[1],int(np.ceil(X_train_processed.shape[1]/10)))}]\n",
    "\n",
    "pcr = GridSearchCV(pipe, param_grid=param_grid, cv=5)\n",
    "pcr.fit(X_train_processed, y_train)\n",
    "pcr_preds = pcr.predict(X_test_processed)\n",
    "\n",
    "print(pcr.best_estimator_)\n",
    "print(paramResults(pcr))\n",
    "print(ResultsOut(pcr))"
   ]
  },
  {
   "cell_type": "markdown",
   "id": "0146c637",
   "metadata": {},
   "source": [
    "### K-Nearest Neighbours"
   ]
  },
  {
   "cell_type": "code",
   "execution_count": 130,
   "id": "c2d999e6",
   "metadata": {},
   "outputs": [
    {
     "name": "stdout",
     "output_type": "stream",
     "text": [
      "KNeighborsRegressor(n_neighbors=7)\n",
      "   n_neighbors_param  Accuracy\n",
      "0                  1 -1.273876\n",
      "1                  3 -0.975886\n",
      "2                  5 -0.842926\n",
      "3                  7 -0.543730\n",
      "4                  9 -0.620552\n",
      "\n",
      "MAE: 0.43\n",
      "MSE: 0.24\n",
      "RMSE: 0.49\n",
      "R^2 Score: -1.50\n",
      "OOS R^2 Score: 0.46\n",
      "\n"
     ]
    }
   ],
   "source": [
    "from sklearn.neighbors import KNeighborsRegressor\n",
    "\n",
    "param_grid = {'n_neighbors': [1, 3, 5, 7, 9]} \n",
    "knn = GridSearchCV(KNeighborsRegressor(), param_grid, cv=5)\n",
    "knn.fit(X_train_processed, y_train)\n",
    "\n",
    "knn_pred = best_knn_model.predict(X_test_processed)\n",
    "\n",
    "print(knn.best_estimator_)\n",
    "print(paramResults(knn))\n",
    "print(ResultsOut(knn))"
   ]
  },
  {
   "cell_type": "markdown",
   "id": "15a82e77-f4cf-46f4-9af8-06a5b3661148",
   "metadata": {},
   "source": [
    "### Random Forest"
   ]
  },
  {
   "cell_type": "code",
   "execution_count": 131,
   "id": "351bc43a-6582-4f43-8e87-7fcf9fd686fc",
   "metadata": {},
   "outputs": [
    {
     "name": "stdout",
     "output_type": "stream",
     "text": [
      "RandomForestRegressor(max_depth=3, max_features='sqrt', n_estimators=35,\n",
      "                      random_state=42069)\n",
      "    max_depth_param  n_estimators_param  Accuracy\n",
      "0                 3                  25 -1.200223\n",
      "1                 3                  35 -1.019515\n",
      "2                 3                  45 -1.026246\n",
      "3                 3                  55 -1.088445\n",
      "4                 3                  65 -1.070883\n",
      "5                 3                  75 -1.070950\n",
      "6                 3                  85 -1.049704\n",
      "7                 3                  95 -1.053271\n",
      "8                 5                  25 -1.189858\n",
      "9                 5                  35 -1.025114\n",
      "10                5                  45 -1.071364\n",
      "11                5                  55 -1.103769\n",
      "12                5                  65 -1.087781\n",
      "13                5                  75 -1.108113\n",
      "14                5                  85 -1.078286\n",
      "15                5                  95 -1.069202\n",
      "16                7                  25 -1.225510\n",
      "17                7                  35 -1.046418\n",
      "18                7                  45 -1.080997\n",
      "19                7                  55 -1.121380\n",
      "20                7                  65 -1.108221\n",
      "21                7                  75 -1.130661\n",
      "22                7                  85 -1.089198\n",
      "23                7                  95 -1.079978\n",
      "\n",
      "MAE: 0.49\n",
      "MSE: 0.27\n",
      "RMSE: 0.52\n",
      "R^2 Score: -1.90\n",
      "OOS R^2 Score: 0.37\n",
      "\n"
     ]
    },
    {
     "data": {
      "image/png": "[encoded data removed]",
      "text/plain": [
       "<Figure size 800x600 with 1 Axes>"
      ]
     },
     "metadata": {},
     "output_type": "display_data"
    }
   ],
   "source": [
    "from sklearn.ensemble import RandomForestRegressor\n",
    "\n",
    "param_grid_rf = {'n_estimators': range(25,100,10),'max_depth': range(3,9,2)}\n",
    "\n",
    "rf = GridSearchCV(estimator=RandomForestRegressor(random_state=42069,max_features='sqrt'), cv=5, param_grid=param_grid_rf,n_jobs=-1)\n",
    "# rf = RandomForestRegressor(random_state=42069,max_features='sqrt', n_estimators=35, max_depth=5)\n",
    "rf.fit(X_train_processed, y_train)\n",
    "\n",
    "print(rf.best_estimator_)\n",
    "print(paramResults(rf))\n",
    "print(ResultsOut(rf))\n",
    "featImport(rf)"
   ]
  },
  {
   "cell_type": "markdown",
   "id": "dd8e4999-5aac-4d7a-a9fb-c107e3764d5e",
   "metadata": {},
   "source": [
    "### Gradient Boosted Trees"
   ]
  },
  {
   "cell_type": "code",
   "execution_count": 132,
   "id": "20893cae-5528-4801-b6e0-2500457f0d5f",
   "metadata": {},
   "outputs": [
    {
     "name": "stdout",
     "output_type": "stream",
     "text": [
      "GradientBoostingRegressor(learning_rate=0.05, max_depth=2, n_estimators=390,\n",
      "                          random_state=42069, subsample=0.5)\n",
      "     learning_rate_param  max_depth_param  n_estimators_param  \\\n",
      "0                  0.100                1                 300   \n",
      "1                  0.100                1                 300   \n",
      "2                  0.100                1                 300   \n",
      "3                  0.100                1                 310   \n",
      "4                  0.100                1                 310   \n",
      "..                   ...              ...                 ...   \n",
      "235                0.001                2                 380   \n",
      "236                0.001                2                 380   \n",
      "237                0.001                2                 390   \n",
      "238                0.001                2                 390   \n",
      "239                0.001                2                 390   \n",
      "\n",
      "     subsample_param  Accuracy  \n",
      "0               0.50 -0.586596  \n",
      "1               0.75 -1.375691  \n",
      "2               1.00 -0.876487  \n",
      "3               0.50 -0.589993  \n",
      "4               0.75 -1.375034  \n",
      "..               ...       ...  \n",
      "235             0.75 -0.800196  \n",
      "236             1.00 -0.789358  \n",
      "237             0.50 -0.798519  \n",
      "238             0.75 -0.800584  \n",
      "239             1.00 -0.788268  \n",
      "\n",
      "[240 rows x 5 columns]\n",
      "\n",
      "MAE: 0.35\n",
      "MSE: 0.17\n",
      "RMSE: 0.41\n",
      "R^2 Score: -0.77\n",
      "OOS R^2 Score: 0.62\n",
      "\n"
     ]
    },
    {
     "data": {
      "image/png": "[encoded data removed]",
      "text/plain": [
       "<Figure size 800x600 with 1 Axes>"
      ]
     },
     "metadata": {},
     "output_type": "display_data"
    },
    {
     "name": "stdout",
     "output_type": "stream",
     "text": [
      "Runtime: 10.91s\n"
     ]
    }
   ],
   "source": [
    "from sklearn.ensemble import GradientBoostingRegressor\n",
    "start = time.perf_counter()\n",
    "\n",
    "param_grid_gbrt = {'n_estimators': range(300,400,10),'learning_rate': [0.1,0.05,0.01,0.001],'max_depth': [1,2], 'subsample': [0.5,0.75,1]}\n",
    "\n",
    "gbrt = GridSearchCV(estimator=GradientBoostingRegressor(random_state=42069), cv=5, param_grid=param_grid_gbrt,n_jobs=-1)\n",
    "gbrt.fit(X_train_processed, y_train)\n",
    "gbrt_preds = gbrt.predict(X_test_processed)\n",
    "\n",
    "print(gbrt.best_estimator_)\n",
    "\n",
    "print(paramResults(gbrt))\n",
    "print(ResultsOut(gbrt))\n",
    "featImport(gbrt)\n",
    "print(f'Runtime: {round(time.perf_counter()-start,2)}s')"
   ]
  },
  {
   "cell_type": "markdown",
   "id": "e2186006-0e92-47c3-9446-f45d89e3cd21",
   "metadata": {},
   "source": [
    "### XG Boost"
   ]
  },
  {
   "cell_type": "code",
   "execution_count": 133,
   "id": "a685ada2-9c8a-4a61-b11c-3c3f521f92cc",
   "metadata": {},
   "outputs": [
    {
     "name": "stdout",
     "output_type": "stream",
     "text": [
      "XGBRegressor(base_score=None, booster=None, callbacks=None,\n",
      "             colsample_bylevel=None, colsample_bynode=None,\n",
      "             colsample_bytree=None, early_stopping_rounds=None,\n",
      "             enable_categorical=False, eval_metric=None, feature_types=None,\n",
      "             gamma=None, gpu_id=None, grow_policy=None, importance_type=None,\n",
      "             interaction_constraints=None, learning_rate=0.25, max_bin=None,\n",
      "             max_cat_threshold=None, max_cat_to_onehot=None,\n",
      "             max_delta_step=None, max_depth=2, max_leaves=None,\n",
      "             min_child_weight=None, missing=nan, monotone_constraints=None,\n",
      "             n_estimators=100, n_jobs=None, num_parallel_tree=None,\n",
      "             predictor=None, random_state=42069, ...)\n",
      "     learning_rate_param  max_depth_param  n_estimators_param  \\\n",
      "0                   0.01                1                  10   \n",
      "1                   0.01                1                  10   \n",
      "2                   0.01                1                  10   \n",
      "3                   0.01                1                  50   \n",
      "4                   0.01                1                  50   \n",
      "..                   ...              ...                 ...   \n",
      "175                 0.25                4                 150   \n",
      "176                 0.25                4                 150   \n",
      "177                 0.25                4                 300   \n",
      "178                 0.25                4                 300   \n",
      "179                 0.25                4                 300   \n",
      "\n",
      "     subsample_param    Accuracy  \n",
      "0               0.50 -257.773016  \n",
      "1               0.75 -255.398403  \n",
      "2               1.00 -254.244147  \n",
      "3               0.50 -126.157045  \n",
      "4               0.75 -120.652267  \n",
      "..               ...         ...  \n",
      "175             0.75   -0.642577  \n",
      "176             1.00   -0.482764  \n",
      "177             0.50   -1.055565  \n",
      "178             0.75   -0.642262  \n",
      "179             1.00   -0.482764  \n",
      "\n",
      "[180 rows x 5 columns]\n",
      "\n",
      "MAE: 0.32\n",
      "MSE: 0.16\n",
      "RMSE: 0.40\n",
      "R^2 Score: -0.67\n",
      "OOS R^2 Score: 0.64\n",
      "\n"
     ]
    },
    {
     "data": {
      "image/png": "[encoded data removed]",
      "text/plain": [
       "<Figure size 800x600 with 1 Axes>"
      ]
     },
     "metadata": {},
     "output_type": "display_data"
    },
    {
     "name": "stdout",
     "output_type": "stream",
     "text": [
      "Runtime: 1.16s\n"
     ]
    }
   ],
   "source": [
    "from xgboost import XGBRegressor\n",
    "start = time.perf_counter()\n",
    "\n",
    "param_grid_xgb = {'n_estimators': [10,50,100,150,300],'learning_rate': [0.01,0.1, 0.25],'max_depth': [1,2,3,4], 'subsample':[0.5,0.75,1]}\n",
    "\n",
    "\n",
    "xgb = GridSearchCV(estimator=XGBRegressor(random_state=42069), cv=5, param_grid=param_grid_xgb,n_jobs=-1)\n",
    "xgb.fit(X_train_processed, y_train)\n",
    "xgb_preds = xgb.predict(X_test_processed)\n",
    "\n",
    "print(xgb.best_estimator_)\n",
    "print(paramResults(xgb))\n",
    "print(ResultsOut(xgb))\n",
    "featImport(xgb)\n",
    "print(f'Runtime: {round(time.perf_counter()-start,2)}s')"
   ]
  },
  {
   "cell_type": "markdown",
   "id": "0076b160-feba-472f-b931-0341fd6513ce",
   "metadata": {},
   "source": [
    "### XG Boost 2"
   ]
  },
  {
   "cell_type": "code",
   "execution_count": 134,
   "id": "7043c99d-ac11-4250-9ce6-b9b78ce14899",
   "metadata": {},
   "outputs": [
    {
     "name": "stdout",
     "output_type": "stream",
     "text": [
      "XGBRegressor(base_score=None, booster=None, callbacks=None,\n",
      "             colsample_bylevel=None, colsample_bynode=None,\n",
      "             colsample_bytree=None, early_stopping_rounds=None,\n",
      "             enable_categorical=False, eval_metric=None, feature_types=None,\n",
      "             gamma=None, gpu_id=None, grow_policy=None, importance_type=None,\n",
      "             interaction_constraints=None, learning_rate=0.01, max_bin=None,\n",
      "             max_cat_threshold=None, max_cat_to_onehot=None,\n",
      "             max_delta_step=None, max_depth=2, max_leaves=None,\n",
      "             min_child_weight=None, missing=nan, monotone_constraints=None,\n",
      "             n_estimators=700, n_jobs=None, num_parallel_tree=None,\n",
      "             predictor=None, random_state=42069, ...)\n",
      "    learning_rate_param  max_depth_param  n_estimators_param  subsample_param  \\\n",
      "0                  0.01                1                 300              0.6   \n",
      "1                  0.01                1                 300              0.8   \n",
      "2                  0.01                1                 300              1.0   \n",
      "3                  0.01                1                 500              0.6   \n",
      "4                  0.01                1                 500              0.8   \n",
      "5                  0.01                1                 500              1.0   \n",
      "6                  0.01                1                 700              0.6   \n",
      "7                  0.01                1                 700              0.8   \n",
      "8                  0.01                1                 700              1.0   \n",
      "9                  0.01                2                 300              0.6   \n",
      "10                 0.01                2                 300              0.8   \n",
      "11                 0.01                2                 300              1.0   \n",
      "12                 0.01                2                 500              0.6   \n",
      "13                 0.01                2                 500              0.8   \n",
      "14                 0.01                2                 500              1.0   \n",
      "15                 0.01                2                 700              0.6   \n",
      "16                 0.01                2                 700              0.8   \n",
      "17                 0.01                2                 700              1.0   \n",
      "18                 0.10                1                 300              0.6   \n",
      "19                 0.10                1                 300              0.8   \n",
      "20                 0.10                1                 300              1.0   \n",
      "21                 0.10                1                 500              0.6   \n",
      "22                 0.10                1                 500              0.8   \n",
      "23                 0.10                1                 500              1.0   \n",
      "24                 0.10                1                 700              0.6   \n",
      "25                 0.10                1                 700              0.8   \n",
      "26                 0.10                1                 700              1.0   \n",
      "27                 0.10                2                 300              0.6   \n",
      "28                 0.10                2                 300              0.8   \n",
      "29                 0.10                2                 300              1.0   \n",
      "30                 0.10                2                 500              0.6   \n",
      "31                 0.10                2                 500              0.8   \n",
      "32                 0.10                2                 500              1.0   \n",
      "33                 0.10                2                 700              0.6   \n",
      "34                 0.10                2                 700              0.8   \n",
      "35                 0.10                2                 700              1.0   \n",
      "36                 0.30                1                 300              0.6   \n",
      "37                 0.30                1                 300              0.8   \n",
      "38                 0.30                1                 300              1.0   \n",
      "39                 0.30                1                 500              0.6   \n",
      "40                 0.30                1                 500              0.8   \n",
      "41                 0.30                1                 500              1.0   \n",
      "42                 0.30                1                 700              0.6   \n",
      "43                 0.30                1                 700              0.8   \n",
      "44                 0.30                1                 700              1.0   \n",
      "45                 0.30                2                 300              0.6   \n",
      "46                 0.30                2                 300              0.8   \n",
      "47                 0.30                2                 300              1.0   \n",
      "48                 0.30                2                 500              0.6   \n",
      "49                 0.30                2                 500              0.8   \n",
      "50                 0.30                2                 500              1.0   \n",
      "51                 0.30                2                 700              0.6   \n",
      "52                 0.30                2                 700              0.8   \n",
      "53                 0.30                2                 700              1.0   \n",
      "\n",
      "    Accuracy  \n",
      "0  -1.729973  \n",
      "1  -1.627696  \n",
      "2  -1.724589  \n",
      "3  -0.700011  \n",
      "4  -0.791319  \n",
      "5  -0.873487  \n",
      "6  -0.721909  \n",
      "7  -0.765107  \n",
      "8  -0.837227  \n",
      "9  -1.713429  \n",
      "10 -1.537306  \n",
      "11 -1.526711  \n",
      "12 -0.559724  \n",
      "13 -0.504925  \n",
      "14 -0.504840  \n",
      "15 -0.544155  \n",
      "16 -0.458412  \n",
      "17 -0.421680  \n",
      "18 -0.720472  \n",
      "19 -0.523194  \n",
      "20 -0.614572  \n",
      "21 -0.694858  \n",
      "22 -0.509373  \n",
      "23 -0.614494  \n",
      "24 -0.692544  \n",
      "25 -0.508927  \n",
      "26 -0.610800  \n",
      "27 -0.791298  \n",
      "28 -0.457862  \n",
      "29 -0.426238  \n",
      "30 -0.791455  \n",
      "31 -0.457857  \n",
      "32 -0.426238  \n",
      "33 -0.791562  \n",
      "34 -0.457801  \n",
      "35 -0.426238  \n",
      "36 -1.072735  \n",
      "37 -0.628927  \n",
      "38 -0.633646  \n",
      "39 -1.072592  \n",
      "40 -0.628911  \n",
      "41 -0.633646  \n",
      "42 -1.072495  \n",
      "43 -0.628943  \n",
      "44 -0.633646  \n",
      "45 -1.272294  \n",
      "46 -0.580537  \n",
      "47 -0.496975  \n",
      "48 -1.272130  \n",
      "49 -0.580368  \n",
      "50 -0.496975  \n",
      "51 -1.272096  \n",
      "52 -0.580389  \n",
      "53 -0.496975  \n",
      "\n",
      "MAE: 0.30\n",
      "MSE: 0.14\n",
      "RMSE: 0.37\n",
      "R^2 Score: -0.44\n",
      "OOS R^2 Score: 0.69\n",
      "\n"
     ]
    },
    {
     "data": {
      "image/png": "[encoded data removed]",
      "text/plain": [
       "<Figure size 800x600 with 1 Axes>"
      ]
     },
     "metadata": {},
     "output_type": "display_data"
    },
    {
     "name": "stdout",
     "output_type": "stream",
     "text": [
      "Runtime: 1.19s\n"
     ]
    }
   ],
   "source": [
    "start = time.perf_counter()\n",
    "param_grid_xgb = {\n",
    "    'learning_rate': [0.01, 0.1, 0.3],\n",
    "    'max_depth': [1,2],\n",
    "    'subsample': [0.6, 0.8, 1.0],\n",
    "    'n_estimators': [300, 500, 700]\n",
    "}\n",
    "xgbn = GridSearchCV(estimator=XGBRegressor(random_state=42069), cv=5, param_grid=param_grid_xgb,n_jobs=-1)\n",
    "xgbn.fit(X_train_processed, y_train)\n",
    "xgbn_preds = xgb.predict(X_test_processed)\n",
    "\n",
    "print(xgbn.best_estimator_)\n",
    "print(paramResults(xgbn))\n",
    "print(ResultsOut(xgbn))\n",
    "featImport(xgbn)\n",
    "print(f'Runtime: {round(time.perf_counter()-start,2)}s')"
   ]
  },
  {
   "cell_type": "code",
   "execution_count": 135,
   "id": "685571d7-b1a8-4dd9-857e-765f24c87f54",
   "metadata": {},
   "outputs": [
    {
     "data": {
      "text/html": [
       "<div>\n",
       "<style scoped>\n",
       "    .dataframe tbody tr th:only-of-type {\n",
       "        vertical-align: middle;\n",
       "    }\n",
       "\n",
       "    .dataframe tbody tr th {\n",
       "        vertical-align: top;\n",
       "    }\n",
       "\n",
       "    .dataframe thead th {\n",
       "        text-align: right;\n",
       "    }\n",
       "</style>\n",
       "<table border=\"1\" class=\"dataframe\">\n",
       "  <thead>\n",
       "    <tr style=\"text-align: right;\">\n",
       "      <th></th>\n",
       "      <th>Model</th>\n",
       "      <th>MAE</th>\n",
       "      <th>MSE</th>\n",
       "      <th>RMSE</th>\n",
       "      <th>R-squared</th>\n",
       "      <th>OOS R2</th>\n",
       "    </tr>\n",
       "  </thead>\n",
       "  <tbody>\n",
       "    <tr>\n",
       "      <th>0</th>\n",
       "      <td>XGBoost2</td>\n",
       "      <td>0.301</td>\n",
       "      <td>0.136</td>\n",
       "      <td>0.369</td>\n",
       "      <td>-0.440</td>\n",
       "      <td>0.686</td>\n",
       "    </tr>\n",
       "    <tr>\n",
       "      <th>1</th>\n",
       "      <td>XGBoost</td>\n",
       "      <td>0.322</td>\n",
       "      <td>0.158</td>\n",
       "      <td>0.397</td>\n",
       "      <td>-0.672</td>\n",
       "      <td>0.636</td>\n",
       "    </tr>\n",
       "    <tr>\n",
       "      <th>2</th>\n",
       "      <td>Gradient Boosted Trees</td>\n",
       "      <td>0.351</td>\n",
       "      <td>0.167</td>\n",
       "      <td>0.408</td>\n",
       "      <td>-0.765</td>\n",
       "      <td>0.616</td>\n",
       "    </tr>\n",
       "    <tr>\n",
       "      <th>3</th>\n",
       "      <td>K-Nearest Neighbors</td>\n",
       "      <td>0.433</td>\n",
       "      <td>0.236</td>\n",
       "      <td>0.485</td>\n",
       "      <td>-1.495</td>\n",
       "      <td>0.457</td>\n",
       "    </tr>\n",
       "    <tr>\n",
       "      <th>4</th>\n",
       "      <td>Random Forest</td>\n",
       "      <td>0.487</td>\n",
       "      <td>0.274</td>\n",
       "      <td>0.523</td>\n",
       "      <td>-1.903</td>\n",
       "      <td>0.368</td>\n",
       "    </tr>\n",
       "    <tr>\n",
       "      <th>5</th>\n",
       "      <td>Lasso</td>\n",
       "      <td>0.626</td>\n",
       "      <td>0.546</td>\n",
       "      <td>0.739</td>\n",
       "      <td>-4.785</td>\n",
       "      <td>-0.260</td>\n",
       "    </tr>\n",
       "    <tr>\n",
       "      <th>6</th>\n",
       "      <td>Linear Regression</td>\n",
       "      <td>0.693</td>\n",
       "      <td>0.680</td>\n",
       "      <td>0.825</td>\n",
       "      <td>-6.207</td>\n",
       "      <td>-0.570</td>\n",
       "    </tr>\n",
       "    <tr>\n",
       "      <th>7</th>\n",
       "      <td>ElasticNet</td>\n",
       "      <td>0.694</td>\n",
       "      <td>0.691</td>\n",
       "      <td>0.831</td>\n",
       "      <td>-6.321</td>\n",
       "      <td>-0.594</td>\n",
       "    </tr>\n",
       "    <tr>\n",
       "      <th>8</th>\n",
       "      <td>Ridge</td>\n",
       "      <td>0.704</td>\n",
       "      <td>0.705</td>\n",
       "      <td>0.840</td>\n",
       "      <td>-6.471</td>\n",
       "      <td>-0.627</td>\n",
       "    </tr>\n",
       "    <tr>\n",
       "      <th>9</th>\n",
       "      <td>Principal Component Regression</td>\n",
       "      <td>1.081</td>\n",
       "      <td>2.508</td>\n",
       "      <td>1.584</td>\n",
       "      <td>-25.570</td>\n",
       "      <td>-4.787</td>\n",
       "    </tr>\n",
       "  </tbody>\n",
       "</table>\n",
       "</div>"
      ],
      "text/plain": [
       "                            Model    MAE    MSE   RMSE  R-squared  OOS R2\n",
       "0                        XGBoost2  0.301  0.136  0.369     -0.440   0.686\n",
       "1                         XGBoost  0.322  0.158  0.397     -0.672   0.636\n",
       "2          Gradient Boosted Trees  0.351  0.167  0.408     -0.765   0.616\n",
       "3             K-Nearest Neighbors  0.433  0.236  0.485     -1.495   0.457\n",
       "4                   Random Forest  0.487  0.274  0.523     -1.903   0.368\n",
       "5                           Lasso  0.626  0.546  0.739     -4.785  -0.260\n",
       "6               Linear Regression  0.693  0.680  0.825     -6.207  -0.570\n",
       "7                      ElasticNet  0.694  0.691  0.831     -6.321  -0.594\n",
       "8                           Ridge  0.704  0.705  0.840     -6.471  -0.627\n",
       "9  Principal Component Regression  1.081  2.508  1.584    -25.570  -4.787"
      ]
     },
     "execution_count": 135,
     "metadata": {},
     "output_type": "execute_result"
    }
   ],
   "source": [
    "modelss = [linreg,ridge,lasso,elasnet,pcr, knn,rf,gbrt,xgb,xgbn]\n",
    "model_namess = ['Linear Regression', 'Ridge', 'Lasso', 'ElasticNet', 'Principal Component Regression',\n",
    "              'K-Nearest Neighbors', 'Random Forest', 'Gradient Boosted Trees', 'XGBoost', 'XGBoost2']\n",
    "def saveResults(models, model_names):\n",
    "    # Initialize an empty dataframe to store the metrics\n",
    "    metrics_df = pd.DataFrame(columns=['Model', 'MAE', 'MSE', 'RMSE', 'R-squared', 'OOS R2'])\n",
    "    \n",
    "    # Loop through each model and calculate the metrics\n",
    "    for i, model in enumerate(models):\n",
    "        # Generate predictions on the test set\n",
    "        y_pred = model.predict(X_test_processed)\n",
    "        \n",
    "        # Calculate regression metrics\n",
    "        mae = round(mean_absolute_error(y_test, y_pred),3)\n",
    "        mse = round(mean_squared_error(y_test, y_pred),3)\n",
    "        rmse = round(mean_squared_error(y_test, y_pred, squared=False),3)\n",
    "        r2 = round(r2_score(y_test, y_pred),3)\n",
    "        oosr2 = round(1-mean_squared_error(y_test,y_pred)/MSE_Histmean,3)\n",
    "        \n",
    "        # Add metrics to the dataframe\n",
    "        metrics_df.loc[i] = [model_names[i], mae, mse, rmse, r2, oosr2]\n",
    "    \n",
    "    metrics_df = metrics_df.sort_values('OOS R2', ascending=False).reset_index(drop=True)\n",
    "    \n",
    "    return metrics_df\n",
    "\n",
    "saveResults(modelss,model_namess)"
   ]
  },
  {
   "cell_type": "code",
   "execution_count": 136,
   "id": "e2bb17b5-d92c-422f-8465-83353377b436",
   "metadata": {},
   "outputs": [
    {
     "name": "stdout",
     "output_type": "stream",
     "text": [
      "Final Runtime: 15.26s\n"
     ]
    }
   ],
   "source": [
    "print(f'Final Runtime: {round(time.perf_counter()-int_start,2)}s')"
   ]
  }
 ],
 "metadata": {
  "kernelspec": {
   "display_name": "Python 3 (ipykernel)",
   "language": "python",
   "name": "python3"
  },
  "language_info": {
   "codemirror_mode": {
    "name": "ipython",
    "version": 3
   },
   "file_extension": ".py",
   "mimetype": "text/x-python",
   "name": "python",
   "nbconvert_exporter": "python",
   "pygments_lexer": "ipython3",
   "version": "3.11.0"
  }
 },
 "nbformat": 4,
 "nbformat_minor": 5
}
