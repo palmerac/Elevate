{
 "cells": [
  {
   "cell_type": "code",
   "execution_count": 1,
   "id": "3fc3b349-f356-4da3-95b7-766ab08baeec",
   "metadata": {},
   "outputs": [],
   "source": [
    "import pandas as pd\n",
    "import matplotlib.pyplot as plt\n",
    "import time \n",
    "from datetime import datetime, timedelta\n",
    "\n",
    "start = time.perf_counter()"
   ]
  },
  {
   "cell_type": "code",
   "execution_count": 2,
   "id": "e17a15ad-90e4-47e0-aea1-2f2fe437177e",
   "metadata": {},
   "outputs": [],
   "source": [
    "df = pd.read_csv('HeartWatch-Workouts-20230717-to-20230816.csv')"
   ]
  },
  {
   "cell_type": "code",
   "execution_count": 3,
   "id": "26d47cf2-c905-445f-948c-56f86d2d023b",
   "metadata": {
    "scrolled": true
   },
   "outputs": [
    {
     "data": {
      "text/html": [
       "<div>\n",
       "<style scoped>\n",
       "    .dataframe tbody tr th:only-of-type {\n",
       "        vertical-align: middle;\n",
       "    }\n",
       "\n",
       "    .dataframe tbody tr th {\n",
       "        vertical-align: top;\n",
       "    }\n",
       "\n",
       "    .dataframe thead th {\n",
       "        text-align: right;\n",
       "    }\n",
       "</style>\n",
       "<table border=\"1\" class=\"dataframe\">\n",
       "  <thead>\n",
       "    <tr style=\"text-align: right;\">\n",
       "      <th></th>\n",
       "      <th>Date</th>\n",
       "      <th>Duration</th>\n",
       "      <th>Type</th>\n",
       "      <th>bpm-Avg.</th>\n",
       "    </tr>\n",
       "  </thead>\n",
       "  <tbody>\n",
       "    <tr>\n",
       "      <th>0</th>\n",
       "      <td>Wednesday, Jul 19</td>\n",
       "      <td>00:30:04</td>\n",
       "      <td>Running</td>\n",
       "      <td>155.9</td>\n",
       "    </tr>\n",
       "    <tr>\n",
       "      <th>1</th>\n",
       "      <td>Thursday, Jul 20</td>\n",
       "      <td>00:36:56</td>\n",
       "      <td>Running</td>\n",
       "      <td>157.3</td>\n",
       "    </tr>\n",
       "    <tr>\n",
       "      <th>2</th>\n",
       "      <td>Friday, Jul 21</td>\n",
       "      <td>00:31:31</td>\n",
       "      <td>Running</td>\n",
       "      <td>152.8</td>\n",
       "    </tr>\n",
       "    <tr>\n",
       "      <th>3</th>\n",
       "      <td>Monday, Jul 24</td>\n",
       "      <td>01:12:34</td>\n",
       "      <td>Cycling</td>\n",
       "      <td>135.6</td>\n",
       "    </tr>\n",
       "    <tr>\n",
       "      <th>4</th>\n",
       "      <td>Tuesday, Jul 25</td>\n",
       "      <td>02:16:52</td>\n",
       "      <td>Cycling</td>\n",
       "      <td>143.6</td>\n",
       "    </tr>\n",
       "  </tbody>\n",
       "</table>\n",
       "</div>"
      ],
      "text/plain": [
       "                Date  Duration     Type  bpm-Avg.\n",
       "0  Wednesday, Jul 19  00:30:04  Running     155.9\n",
       "1   Thursday, Jul 20  00:36:56  Running     157.3\n",
       "2     Friday, Jul 21  00:31:31  Running     152.8\n",
       "3     Monday, Jul 24  01:12:34  Cycling     135.6\n",
       "4    Tuesday, Jul 25  02:16:52  Cycling     143.6"
      ]
     },
     "execution_count": 3,
     "metadata": {},
     "output_type": "execute_result"
    }
   ],
   "source": [
    "df = df.drop(['ISO', 'from', 'to', 'rpe', 'Load', 'bpm-lo', 'bpm-90%+-%', '90%+-mins',\n",
    "              'bpm-80-90%-%', '80-90%-mins','bpm-70-80%-%', '70-80%-mins','bpm-60-70%-%',\n",
    "              '60-70%-mins','bpm-50-60%-%', '50-60%-mins', 'bpm-%', 'bpm-hi', 'Cals',\n",
    "               'Cals/h', 'km', 'km/h', '/km'], axis=1)\n",
    "df.head()"
   ]
  },
  {
   "cell_type": "code",
   "execution_count": 4,
   "id": "55cc35f8-c286-4342-a9cc-53dac7551a61",
   "metadata": {},
   "outputs": [],
   "source": [
    "# Convert the Duration column to timedelta\n",
    "df[\"Duration\"] = pd.to_timedelta(df[\"Duration\"])\n",
    "\n",
    "# Convert the timedelta to decimal hours and create a new column\n",
    "df[\"Duration\"] = df[\"Duration\"].apply(lambda x: x.total_seconds() / 3600)"
   ]
  },
  {
   "cell_type": "code",
   "execution_count": 5,
   "id": "cf1a3858-9e93-4575-b6c0-57d44ac23a49",
   "metadata": {},
   "outputs": [],
   "source": [
    "dfRun = df[df['Type'] == 'Running']\n",
    "dfBike = df[df['Type'] == 'Cycling']\n",
    "dfOther = df[~df['Type'].isin(['Running', 'Cycling'])]"
   ]
  },
  {
   "cell_type": "code",
   "execution_count": 6,
   "id": "1eac311c-5265-4f60-ba97-b99581507cba",
   "metadata": {},
   "outputs": [
    {
     "data": {
      "text/html": [
       "<div>\n",
       "<style scoped>\n",
       "    .dataframe tbody tr th:only-of-type {\n",
       "        vertical-align: middle;\n",
       "    }\n",
       "\n",
       "    .dataframe tbody tr th {\n",
       "        vertical-align: top;\n",
       "    }\n",
       "\n",
       "    .dataframe thead th {\n",
       "        text-align: right;\n",
       "    }\n",
       "</style>\n",
       "<table border=\"1\" class=\"dataframe\">\n",
       "  <thead>\n",
       "    <tr style=\"text-align: right;\">\n",
       "      <th></th>\n",
       "      <th>Date</th>\n",
       "      <th>Duration</th>\n",
       "      <th>Type</th>\n",
       "      <th>bpm-Avg.</th>\n",
       "    </tr>\n",
       "  </thead>\n",
       "  <tbody>\n",
       "    <tr>\n",
       "      <th>14</th>\n",
       "      <td>Tuesday, Aug 8</td>\n",
       "      <td>0.656667</td>\n",
       "      <td>Running</td>\n",
       "      <td>153.9</td>\n",
       "    </tr>\n",
       "    <tr>\n",
       "      <th>15</th>\n",
       "      <td>Wednesday, Aug 9</td>\n",
       "      <td>0.893333</td>\n",
       "      <td>Running</td>\n",
       "      <td>148.3</td>\n",
       "    </tr>\n",
       "    <tr>\n",
       "      <th>17</th>\n",
       "      <td>Friday, Aug 11</td>\n",
       "      <td>0.650833</td>\n",
       "      <td>Running</td>\n",
       "      <td>148.2</td>\n",
       "    </tr>\n",
       "    <tr>\n",
       "      <th>19</th>\n",
       "      <td>Monday, Aug 14</td>\n",
       "      <td>0.799444</td>\n",
       "      <td>Running</td>\n",
       "      <td>118.4</td>\n",
       "    </tr>\n",
       "    <tr>\n",
       "      <th>20</th>\n",
       "      <td>Tuesday, Aug 15</td>\n",
       "      <td>1.136389</td>\n",
       "      <td>Running</td>\n",
       "      <td>151.3</td>\n",
       "    </tr>\n",
       "  </tbody>\n",
       "</table>\n",
       "</div>"
      ],
      "text/plain": [
       "                Date  Duration     Type  bpm-Avg.\n",
       "14    Tuesday, Aug 8  0.656667  Running     153.9\n",
       "15  Wednesday, Aug 9  0.893333  Running     148.3\n",
       "17    Friday, Aug 11  0.650833  Running     148.2\n",
       "19    Monday, Aug 14  0.799444  Running     118.4\n",
       "20   Tuesday, Aug 15  1.136389  Running     151.3"
      ]
     },
     "execution_count": 6,
     "metadata": {},
     "output_type": "execute_result"
    }
   ],
   "source": [
    "dfRun.tail()"
   ]
  },
  {
   "cell_type": "code",
   "execution_count": 7,
   "id": "038ebdcf-9cea-4f65-a83e-2ff13b23dae6",
   "metadata": {},
   "outputs": [
    {
     "name": "stderr",
     "output_type": "stream",
     "text": [
      "/var/folders/y_/8cmvsg791ys9qqbzj_yxrlj40000gn/T/ipykernel_4036/669151405.py:1: SettingWithCopyWarning: \n",
      "A value is trying to be set on a copy of a slice from a DataFrame.\n",
      "Try using .loc[row_indexer,col_indexer] = value instead\n",
      "\n",
      "See the caveats in the documentation: https://pandas.pydata.org/pandas-docs/stable/user_guide/indexing.html#returning-a-view-versus-a-copy\n",
      "  dfRun['Weighted HR'] = dfRun['Duration'] * dfRun['bpm-Avg.']\n"
     ]
    }
   ],
   "source": [
    "dfRun['Weighted HR'] = dfRun['Duration'] * dfRun['bpm-Avg.']"
   ]
  },
  {
   "cell_type": "code",
   "execution_count": 8,
   "id": "18c89b45-4fca-4be6-86ab-910fcad2a771",
   "metadata": {},
   "outputs": [
    {
     "data": {
      "text/html": [
       "<div>\n",
       "<style scoped>\n",
       "    .dataframe tbody tr th:only-of-type {\n",
       "        vertical-align: middle;\n",
       "    }\n",
       "\n",
       "    .dataframe tbody tr th {\n",
       "        vertical-align: top;\n",
       "    }\n",
       "\n",
       "    .dataframe thead th {\n",
       "        text-align: right;\n",
       "    }\n",
       "</style>\n",
       "<table border=\"1\" class=\"dataframe\">\n",
       "  <thead>\n",
       "    <tr style=\"text-align: right;\">\n",
       "      <th></th>\n",
       "      <th>Date</th>\n",
       "      <th>Duration</th>\n",
       "      <th>Type</th>\n",
       "      <th>bpm-Avg.</th>\n",
       "      <th>Weighted HR</th>\n",
       "    </tr>\n",
       "  </thead>\n",
       "  <tbody>\n",
       "    <tr>\n",
       "      <th>14</th>\n",
       "      <td>Tuesday, Aug 8</td>\n",
       "      <td>0.656667</td>\n",
       "      <td>Running</td>\n",
       "      <td>153.9</td>\n",
       "      <td>101.061000</td>\n",
       "    </tr>\n",
       "    <tr>\n",
       "      <th>15</th>\n",
       "      <td>Wednesday, Aug 9</td>\n",
       "      <td>0.893333</td>\n",
       "      <td>Running</td>\n",
       "      <td>148.3</td>\n",
       "      <td>132.481333</td>\n",
       "    </tr>\n",
       "    <tr>\n",
       "      <th>17</th>\n",
       "      <td>Friday, Aug 11</td>\n",
       "      <td>0.650833</td>\n",
       "      <td>Running</td>\n",
       "      <td>148.2</td>\n",
       "      <td>96.453500</td>\n",
       "    </tr>\n",
       "    <tr>\n",
       "      <th>19</th>\n",
       "      <td>Monday, Aug 14</td>\n",
       "      <td>0.799444</td>\n",
       "      <td>Running</td>\n",
       "      <td>118.4</td>\n",
       "      <td>94.654222</td>\n",
       "    </tr>\n",
       "    <tr>\n",
       "      <th>20</th>\n",
       "      <td>Tuesday, Aug 15</td>\n",
       "      <td>1.136389</td>\n",
       "      <td>Running</td>\n",
       "      <td>151.3</td>\n",
       "      <td>171.935639</td>\n",
       "    </tr>\n",
       "  </tbody>\n",
       "</table>\n",
       "</div>"
      ],
      "text/plain": [
       "                Date  Duration     Type  bpm-Avg.  Weighted HR\n",
       "14    Tuesday, Aug 8  0.656667  Running     153.9   101.061000\n",
       "15  Wednesday, Aug 9  0.893333  Running     148.3   132.481333\n",
       "17    Friday, Aug 11  0.650833  Running     148.2    96.453500\n",
       "19    Monday, Aug 14  0.799444  Running     118.4    94.654222\n",
       "20   Tuesday, Aug 15  1.136389  Running     151.3   171.935639"
      ]
     },
     "execution_count": 8,
     "metadata": {},
     "output_type": "execute_result"
    }
   ],
   "source": [
    "dfRun.tail()"
   ]
  },
  {
   "cell_type": "code",
   "execution_count": 9,
   "id": "f6be0a19-a121-4c20-8ca3-b61d6101a325",
   "metadata": {},
   "outputs": [],
   "source": [
    "avg_weighted_hr = round(dfRun['Weighted HR'].sum() / dfRun['Duration'].sum(),2)"
   ]
  },
  {
   "cell_type": "code",
   "execution_count": 10,
   "id": "6b9270a2-0687-4901-b3b4-dd8025f58ac6",
   "metadata": {},
   "outputs": [
    {
     "name": "stdout",
     "output_type": "stream",
     "text": [
      "Average Weighted HR: 148.55\n",
      "Runtime: 0.04s\n"
     ]
    }
   ],
   "source": [
    "print(f'Average Weighted HR: {avg_weighted_hr}')\n",
    "print(f'Runtime: {round(time.perf_counter() - start,2)}s')"
   ]
  }
 ],
 "metadata": {
  "kernelspec": {
   "display_name": "Python 3 (ipykernel)",
   "language": "python",
   "name": "python3"
  },
  "language_info": {
   "codemirror_mode": {
    "name": "ipython",
    "version": 3
   },
   "file_extension": ".py",
   "mimetype": "text/x-python",
   "name": "python",
   "nbconvert_exporter": "python",
   "pygments_lexer": "ipython3",
   "version": "3.11.0"
  }
 },
 "nbformat": 4,
 "nbformat_minor": 5
}
